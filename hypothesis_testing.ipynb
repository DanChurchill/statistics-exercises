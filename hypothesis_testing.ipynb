{
 "cells": [
  {
   "cell_type": "markdown",
   "id": "4928271f",
   "metadata": {},
   "source": [
    "For each of the following questions, formulate a null and alternative hypothesis (be as specific as you can be), then give an example of what a true positive, true negative, type I and type II errors would look like. Note that some of the questions are intentionally phrased in a vague way. It is your job to reword these as more precise questions that could be tested.\n",
    "\n"
   ]
  },
  {
   "cell_type": "markdown",
   "id": "67572ba2",
   "metadata": {},
   "source": [
    "Has the network latency gone up since we switched internet service providers?\n",
    "\n",
    "    H0:  There is no change in network latency since we switched internet service providers\n",
    "    Ha:  There is an increase in latency since we switched internet service providers\n",
    "        \n",
    "    True Positive:  we determine latency has changed, and in reality that is true\n",
    "    True Negative:  we determine latency hasn't changed, and in reality that is true\n",
    "    \n",
    "    Type I:  we determine latency has changed, but in reality it hasn't\n",
    "    Type II: we determine latency hasn't changed, but in reality is has"
   ]
  },
  {
   "cell_type": "markdown",
   "id": "a7e54d1b",
   "metadata": {},
   "source": [
    "Is the website redesign any good?\n",
    "\n",
    "    H0:  There is no change in traffic since the redesign\n",
    "    Ha:  There is less traffic since the redesign\n",
    "        \n",
    "    True Positive:  we determine traffic has changed, and in reality that is true\n",
    "    True Negative:  we determine traffic hasn't changed, and in reality that is true\n",
    "\n",
    "    Type I:  we determine traffic has changed, but in reality it hasn't\n",
    "    Type II: we determine traffic hasn't changed, but in reality is has"
   ]
  },
  {
   "cell_type": "markdown",
   "id": "71852ee0",
   "metadata": {},
   "source": [
    "Is our television ad driving more sales?\n",
    "\n",
    "    H0:  There is no increase in sales since the ad aired\n",
    "    Ha:  There is more sales since the ad aired\n",
    "\n",
    "    True Positive:  we determine sales have increased, and in reality that is true\n",
    "    True Negative:  we determine sales haven't increased, and in reality that is true\n",
    "\n",
    "    Type I:  we determine sales have increased, but in reality they haven't\n",
    "    Type II: we determine sales havn't increased, but in reality they have "
   ]
  },
  {
   "cell_type": "code",
   "execution_count": null,
   "id": "cda7c435",
   "metadata": {},
   "outputs": [],
   "source": []
  }
 ],
 "metadata": {
  "kernelspec": {
   "display_name": "Python 3 (ipykernel)",
   "language": "python",
   "name": "python3"
  },
  "language_info": {
   "codemirror_mode": {
    "name": "ipython",
    "version": 3
   },
   "file_extension": ".py",
   "mimetype": "text/x-python",
   "name": "python",
   "nbconvert_exporter": "python",
   "pygments_lexer": "ipython3",
   "version": "3.9.12"
  }
 },
 "nbformat": 4,
 "nbformat_minor": 5
}
