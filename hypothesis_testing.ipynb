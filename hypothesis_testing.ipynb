{
 "cells": [
  {
   "cell_type": "code",
   "execution_count": 1,
   "id": "de8f366d",
   "metadata": {},
   "outputs": [],
   "source": [
    "import numpy as np\n",
    "import seaborn as sns\n",
    "import scipy.stats as stats\n",
    "import pandas as pd\n",
    "from pydataset import data\n",
    "import matplotlib.pyplot as plt"
   ]
  },
  {
   "cell_type": "markdown",
   "id": "4928271f",
   "metadata": {},
   "source": [
    "For each of the following questions, formulate a null and alternative hypothesis (be as specific as you can be), then give an example of what a true positive, true negative, type I and type II errors would look like. Note that some of the questions are intentionally phrased in a vague way. It is your job to reword these as more precise questions that could be tested.\n",
    "\n"
   ]
  },
  {
   "cell_type": "markdown",
   "id": "67572ba2",
   "metadata": {},
   "source": [
    "Has the network latency gone up since we switched internet service providers?\n",
    "\n",
    "    H0:  There is no change in network latency since we switched internet service providers\n",
    "    Ha:  There is an increase in latency since we switched internet service providers\n",
    "        \n",
    "    True Positive:  we determine latency has changed, and in reality that is true\n",
    "    True Negative:  we determine latency hasn't changed, and in reality that is true\n",
    "    \n",
    "    Type I:  we determine latency has changed, but in reality it hasn't\n",
    "    Type II: we determine latency hasn't changed, but in reality is has"
   ]
  },
  {
   "cell_type": "markdown",
   "id": "a7e54d1b",
   "metadata": {},
   "source": [
    "Is the website redesign any good?\n",
    "\n",
    "    H0:  There is no change in traffic since the redesign\n",
    "    Ha:  There is less traffic since the redesign\n",
    "        \n",
    "    True Positive:  we determine traffic has changed, and in reality that is true\n",
    "    True Negative:  we determine traffic hasn't changed, and in reality that is true\n",
    "\n",
    "    Type I:  we determine traffic has changed, but in reality it hasn't\n",
    "    Type II: we determine traffic hasn't changed, but in reality is has"
   ]
  },
  {
   "cell_type": "markdown",
   "id": "71852ee0",
   "metadata": {},
   "source": [
    "Is our television ad driving more sales?\n",
    "\n",
    "    H0:  There is no increase in sales since the ad aired\n",
    "    Ha:  There is more sales since the ad aired\n",
    "\n",
    "    True Positive:  we determine sales have increased, and in reality that is true\n",
    "    True Negative:  we determine sales haven't increased, and in reality that is true\n",
    "\n",
    "    Type I:  we determine sales have increased, but in reality they haven't\n",
    "    Type II: we determine sales havn't increased, but in reality they have "
   ]
  },
  {
   "cell_type": "markdown",
   "id": "89889385",
   "metadata": {},
   "source": [
    "Ace Realty wants to determine whether the average time it takes to sell homes is different \n",
    "for its two offices. A sample of 40 sales from office #1 revealed a mean of 90 days and a \n",
    "standard deviation of 15 days. A sample of 50 sales from office #2 revealed a mean of 100 days \n",
    "and a standard deviation of 20 days. Use a .05 level of significance."
   ]
  },
  {
   "cell_type": "markdown",
   "id": "f08c71b1",
   "metadata": {},
   "source": [
    "    H0 = office 1 time to sell is == to office 2\n",
    "    Ha = office 1 time to sell is != to office 2"
   ]
  },
  {
   "cell_type": "code",
   "execution_count": 2,
   "id": "ea2d1d75",
   "metadata": {},
   "outputs": [],
   "source": [
    "t, v = stats.ttest_ind_from_stats(mean1=90.0, std1=15, nobs1=40,\n",
    "                            mean2=100, std2=20, nobs2=50)\n",
    "\n",
    "α = .05\n"
   ]
  },
  {
   "cell_type": "code",
   "execution_count": 3,
   "id": "c83a4b39",
   "metadata": {},
   "outputs": [
    {
     "data": {
      "text/plain": [
       "True"
      ]
     },
     "execution_count": 3,
     "metadata": {},
     "output_type": "execute_result"
    }
   ],
   "source": [
    "#is t < 0? AND is p/2 < alpha?  if true reject the null\n",
    "\n",
    "t < 0\n"
   ]
  },
  {
   "cell_type": "markdown",
   "id": "c9c31947",
   "metadata": {},
   "source": [
    "Reject the null hypothosis, the time it takes to sell in office 1 is different from the time it takes in office 2"
   ]
  },
  {
   "cell_type": "code",
   "execution_count": 4,
   "id": "0c740476",
   "metadata": {
    "scrolled": true
   },
   "outputs": [
    {
     "data": {
      "text/html": [
       "<div>\n",
       "<style scoped>\n",
       "    .dataframe tbody tr th:only-of-type {\n",
       "        vertical-align: middle;\n",
       "    }\n",
       "\n",
       "    .dataframe tbody tr th {\n",
       "        vertical-align: top;\n",
       "    }\n",
       "\n",
       "    .dataframe thead th {\n",
       "        text-align: right;\n",
       "    }\n",
       "</style>\n",
       "<table border=\"1\" class=\"dataframe\">\n",
       "  <thead>\n",
       "    <tr style=\"text-align: right;\">\n",
       "      <th></th>\n",
       "      <th>manufacturer</th>\n",
       "      <th>model</th>\n",
       "      <th>displ</th>\n",
       "      <th>year</th>\n",
       "      <th>cyl</th>\n",
       "      <th>trans</th>\n",
       "      <th>drv</th>\n",
       "      <th>cty</th>\n",
       "      <th>hwy</th>\n",
       "      <th>fl</th>\n",
       "      <th>class</th>\n",
       "      <th>mpg</th>\n",
       "    </tr>\n",
       "  </thead>\n",
       "  <tbody>\n",
       "    <tr>\n",
       "      <th>1</th>\n",
       "      <td>audi</td>\n",
       "      <td>a4</td>\n",
       "      <td>1.8</td>\n",
       "      <td>1999</td>\n",
       "      <td>4</td>\n",
       "      <td>auto(l5)</td>\n",
       "      <td>f</td>\n",
       "      <td>18</td>\n",
       "      <td>29</td>\n",
       "      <td>p</td>\n",
       "      <td>compact</td>\n",
       "      <td>23.5</td>\n",
       "    </tr>\n",
       "    <tr>\n",
       "      <th>2</th>\n",
       "      <td>audi</td>\n",
       "      <td>a4</td>\n",
       "      <td>1.8</td>\n",
       "      <td>1999</td>\n",
       "      <td>4</td>\n",
       "      <td>manual(m5)</td>\n",
       "      <td>f</td>\n",
       "      <td>21</td>\n",
       "      <td>29</td>\n",
       "      <td>p</td>\n",
       "      <td>compact</td>\n",
       "      <td>25.0</td>\n",
       "    </tr>\n",
       "    <tr>\n",
       "      <th>3</th>\n",
       "      <td>audi</td>\n",
       "      <td>a4</td>\n",
       "      <td>2.0</td>\n",
       "      <td>2008</td>\n",
       "      <td>4</td>\n",
       "      <td>manual(m6)</td>\n",
       "      <td>f</td>\n",
       "      <td>20</td>\n",
       "      <td>31</td>\n",
       "      <td>p</td>\n",
       "      <td>compact</td>\n",
       "      <td>25.5</td>\n",
       "    </tr>\n",
       "    <tr>\n",
       "      <th>4</th>\n",
       "      <td>audi</td>\n",
       "      <td>a4</td>\n",
       "      <td>2.0</td>\n",
       "      <td>2008</td>\n",
       "      <td>4</td>\n",
       "      <td>auto(av)</td>\n",
       "      <td>f</td>\n",
       "      <td>21</td>\n",
       "      <td>30</td>\n",
       "      <td>p</td>\n",
       "      <td>compact</td>\n",
       "      <td>25.5</td>\n",
       "    </tr>\n",
       "    <tr>\n",
       "      <th>5</th>\n",
       "      <td>audi</td>\n",
       "      <td>a4</td>\n",
       "      <td>2.8</td>\n",
       "      <td>1999</td>\n",
       "      <td>6</td>\n",
       "      <td>auto(l5)</td>\n",
       "      <td>f</td>\n",
       "      <td>16</td>\n",
       "      <td>26</td>\n",
       "      <td>p</td>\n",
       "      <td>compact</td>\n",
       "      <td>21.0</td>\n",
       "    </tr>\n",
       "  </tbody>\n",
       "</table>\n",
       "</div>"
      ],
      "text/plain": [
       "  manufacturer model  displ  year  cyl       trans drv  cty  hwy fl    class  \\\n",
       "1         audi    a4    1.8  1999    4    auto(l5)   f   18   29  p  compact   \n",
       "2         audi    a4    1.8  1999    4  manual(m5)   f   21   29  p  compact   \n",
       "3         audi    a4    2.0  2008    4  manual(m6)   f   20   31  p  compact   \n",
       "4         audi    a4    2.0  2008    4    auto(av)   f   21   30  p  compact   \n",
       "5         audi    a4    2.8  1999    6    auto(l5)   f   16   26  p  compact   \n",
       "\n",
       "    mpg  \n",
       "1  23.5  \n",
       "2  25.0  \n",
       "3  25.5  \n",
       "4  25.5  \n",
       "5  21.0  "
      ]
     },
     "execution_count": 4,
     "metadata": {},
     "output_type": "execute_result"
    }
   ],
   "source": [
    "# Load the mpg dataset and use it to answer the following questions:\n",
    "# creating a mpg field averaging the city and hwy mileage\n",
    "df = data('mpg')\n",
    "df['mpg'] = (df['cty'] + df['hwy']) / 2\n",
    "# drop nulls\n",
    "df.head()"
   ]
  },
  {
   "cell_type": "markdown",
   "id": "92e5986f",
   "metadata": {},
   "source": [
    "# Is there a difference in fuel-efficiency in cars from 2008 vs 1999?\n"
   ]
  },
  {
   "cell_type": "code",
   "execution_count": 5,
   "id": "e2a50a5d",
   "metadata": {},
   "outputs": [
    {
     "data": {
      "text/plain": [
       "0.855517569468803"
      ]
     },
     "execution_count": 5,
     "metadata": {},
     "output_type": "execute_result"
    }
   ],
   "source": [
    "new = df[df.year == 2008]\n",
    "old = df[df.year == 1999]\n",
    "\n",
    "α = .05\n",
    "\n",
    "stat, p = stats.levene(new.mpg, old.mpg)\n",
    "p"
   ]
  },
  {
   "cell_type": "markdown",
   "id": "d52796b6",
   "metadata": {},
   "source": [
    "    H0 = 2008 cars have == fuel efficiency to 1999 cars\n",
    "    Ha = 2008 cars have != fuel efficiency to 1999 cars\n",
    "    \n",
    "            p > α so var = True"
   ]
  },
  {
   "cell_type": "code",
   "execution_count": 6,
   "id": "dc459dea",
   "metadata": {},
   "outputs": [],
   "source": [
    "t, v = stats.ttest_ind(new.mpg, old.mpg, equal_var=True)"
   ]
  },
  {
   "cell_type": "code",
   "execution_count": 7,
   "id": "8fe49027",
   "metadata": {},
   "outputs": [
    {
     "data": {
      "text/plain": [
       "True"
      ]
     },
     "execution_count": 7,
     "metadata": {},
     "output_type": "execute_result"
    }
   ],
   "source": [
    "# Is the p-value less than alpha? if so than reject null hyp\n",
    "\n",
    "t < α"
   ]
  },
  {
   "cell_type": "markdown",
   "id": "62ba6135",
   "metadata": {},
   "source": [
    "There is a significant differenct in fuel-efficiency in cars from 2008 vs 1999"
   ]
  },
  {
   "cell_type": "markdown",
   "id": "d3a0e5e1",
   "metadata": {},
   "source": [
    "# Are compact cars more fuel-efficient than the average car?\n"
   ]
  },
  {
   "cell_type": "code",
   "execution_count": 8,
   "id": "7f91db2a",
   "metadata": {},
   "outputs": [],
   "source": [
    "compact = df[df['class'] == 'compact']\n",
    "α = .05\n",
    "\n",
    "\n",
    "μth = df.mpg.mean()"
   ]
  },
  {
   "cell_type": "markdown",
   "id": "782c8b9b",
   "metadata": {},
   "source": [
    "    H0 = compact cars are not more fuel efficient than the average car ( mileage <= average )\n",
    "    Ha = compact cars are more fuel efficient than the average car (mileage > average )"
   ]
  },
  {
   "cell_type": "code",
   "execution_count": 9,
   "id": "3277ab97",
   "metadata": {},
   "outputs": [
    {
     "data": {
      "text/plain": [
       "(7.896888573132535, 4.1985637943171186e-10)"
      ]
     },
     "execution_count": 9,
     "metadata": {},
     "output_type": "execute_result"
    }
   ],
   "source": [
    "t, p = stats.ttest_1samp(compact.mpg, μth)\n",
    "t, p"
   ]
  },
  {
   "cell_type": "code",
   "execution_count": 10,
   "id": "87c4943e",
   "metadata": {},
   "outputs": [
    {
     "name": "stdout",
     "output_type": "stream",
     "text": [
      "we can reject the null hypothesis\n"
     ]
    }
   ],
   "source": [
    "if ((p / 2) < α) and (t > 0):\n",
    "    print('we can reject the null hypothesis')\n",
    "else: \n",
    "    print('we fail to reject the null hypothesis')"
   ]
  },
  {
   "cell_type": "markdown",
   "id": "5980aab1",
   "metadata": {},
   "source": [
    "# Do manual cars get better gas mileage than automatic cars?"
   ]
  },
  {
   "cell_type": "code",
   "execution_count": 11,
   "id": "e6d48e73",
   "metadata": {},
   "outputs": [
    {
     "data": {
      "text/plain": [
       "0.6545276355131857"
      ]
     },
     "execution_count": 11,
     "metadata": {},
     "output_type": "execute_result"
    }
   ],
   "source": [
    "manual = df[df['trans'].str.contains(\"manual\")]\n",
    "auto = df[df['trans'].str.contains(\"auto\")]\n",
    "α = .05\n",
    "\n",
    "stat, p = stats.levene(manual.mpg, auto.mpg)\n",
    "p"
   ]
  },
  {
   "cell_type": "markdown",
   "id": "e37124cc",
   "metadata": {},
   "source": [
    "    H0 = manual cars do not get better gas mileage than automatic cars (manual mpg <= auto mpg)\n",
    "    Ha = manual cars get better gas mileage than automatic cars (manual mpg >= auto mpg)\n",
    "    \n",
    "                p > α so var = True"
   ]
  },
  {
   "cell_type": "code",
   "execution_count": 12,
   "id": "435ad1a5",
   "metadata": {},
   "outputs": [
    {
     "data": {
      "text/plain": [
       "(4.593437735750014, 7.154374401145685e-06)"
      ]
     },
     "execution_count": 12,
     "metadata": {},
     "output_type": "execute_result"
    }
   ],
   "source": [
    "t, p = stats.ttest_ind(manual.mpg, auto.mpg, equal_var=True)\n",
    "t,p"
   ]
  },
  {
   "cell_type": "code",
   "execution_count": 13,
   "id": "b519061d",
   "metadata": {},
   "outputs": [
    {
     "data": {
      "text/plain": [
       "True"
      ]
     },
     "execution_count": 13,
     "metadata": {},
     "output_type": "execute_result"
    }
   ],
   "source": [
    "# Is the p-value less than alpha? if so than reject null hyp\n",
    "\n",
    "p/2 < α"
   ]
  },
  {
   "cell_type": "markdown",
   "id": "34f6a50a",
   "metadata": {},
   "source": [
    "The null hypothesis is correct, manual cars do not get significantly better gas mileage"
   ]
  },
  {
   "cell_type": "code",
   "execution_count": null,
   "id": "4561f431",
   "metadata": {},
   "outputs": [],
   "source": []
  },
  {
   "cell_type": "code",
   "execution_count": null,
   "id": "d479255c",
   "metadata": {},
   "outputs": [],
   "source": []
  }
 ],
 "metadata": {
  "kernelspec": {
   "display_name": "Python 3 (ipykernel)",
   "language": "python",
   "name": "python3"
  },
  "language_info": {
   "codemirror_mode": {
    "name": "ipython",
    "version": 3
   },
   "file_extension": ".py",
   "mimetype": "text/x-python",
   "name": "python",
   "nbconvert_exporter": "python",
   "pygments_lexer": "ipython3",
   "version": "3.9.12"
  }
 },
 "nbformat": 4,
 "nbformat_minor": 5
}
