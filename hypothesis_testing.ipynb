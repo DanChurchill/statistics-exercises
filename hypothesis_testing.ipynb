{
 "cells": [
  {
   "cell_type": "code",
   "execution_count": 1,
   "id": "33ffe2cd",
   "metadata": {},
   "outputs": [],
   "source": [
    "import numpy as np\n",
    "import seaborn as sns\n",
    "import scipy.stats as stats\n",
    "import pandas as pd\n",
    "from pydataset import data\n",
    "import matplotlib.pyplot as plt"
   ]
  },
  {
   "cell_type": "markdown",
   "id": "4928271f",
   "metadata": {},
   "source": [
    "For each of the following questions, formulate a null and alternative hypothesis (be as specific as you can be), then give an example of what a true positive, true negative, type I and type II errors would look like. Note that some of the questions are intentionally phrased in a vague way. It is your job to reword these as more precise questions that could be tested.\n",
    "\n"
   ]
  },
  {
   "cell_type": "markdown",
   "id": "67572ba2",
   "metadata": {},
   "source": [
    "Has the network latency gone up since we switched internet service providers?\n",
    "\n",
    "    H0:  There is no change in network latency since we switched internet service providers\n",
    "    Ha:  There is an increase in latency since we switched internet service providers\n",
    "        \n",
    "    True Positive:  we determine latency has changed, and in reality that is true\n",
    "    True Negative:  we determine latency hasn't changed, and in reality that is true\n",
    "    \n",
    "    Type I:  we determine latency has changed, but in reality it hasn't\n",
    "    Type II: we determine latency hasn't changed, but in reality is has"
   ]
  },
  {
   "cell_type": "markdown",
   "id": "a7e54d1b",
   "metadata": {},
   "source": [
    "Is the website redesign any good?\n",
    "\n",
    "    H0:  There is no change in traffic since the redesign\n",
    "    Ha:  There is less traffic since the redesign\n",
    "        \n",
    "    True Positive:  we determine traffic has changed, and in reality that is true\n",
    "    True Negative:  we determine traffic hasn't changed, and in reality that is true\n",
    "\n",
    "    Type I:  we determine traffic has changed, but in reality it hasn't\n",
    "    Type II: we determine traffic hasn't changed, but in reality is has"
   ]
  },
  {
   "cell_type": "markdown",
   "id": "71852ee0",
   "metadata": {},
   "source": [
    "Is our television ad driving more sales?\n",
    "\n",
    "    H0:  There is no increase in sales since the ad aired\n",
    "    Ha:  There is more sales since the ad aired\n",
    "\n",
    "    True Positive:  we determine sales have increased, and in reality that is true\n",
    "    True Negative:  we determine sales haven't increased, and in reality that is true\n",
    "\n",
    "    Type I:  we determine sales have increased, but in reality they haven't\n",
    "    Type II: we determine sales havn't increased, but in reality they have "
   ]
  },
  {
   "cell_type": "markdown",
   "id": "01f78814",
   "metadata": {},
   "source": [
    "Ace Realty wants to determine whether the average time it takes to sell homes is different \n",
    "for its two offices. A sample of 40 sales from office #1 revealed a mean of 90 days and a \n",
    "standard deviation of 15 days. A sample of 50 sales from office #2 revealed a mean of 100 days \n",
    "and a standard deviation of 20 days. Use a .05 level of significance."
   ]
  },
  {
   "cell_type": "markdown",
   "id": "3edf6d0e",
   "metadata": {},
   "source": [
    "    H0 = office 1 time to sell is == to office 2\n",
    "    Ha = office 1 time to sell is != to office 2"
   ]
  },
  {
   "cell_type": "code",
   "execution_count": 25,
   "id": "82623590",
   "metadata": {},
   "outputs": [
    {
     "data": {
      "image/png": "[encoded data removed]",
      "text/plain": [
       "<Figure size 432x288 with 1 Axes>"
      ]
     },
     "metadata": {
      "needs_background": "light"
     },
     "output_type": "display_data"
    }
   ],
   "source": [
    "x = np.arange(50,150)\n",
    "y1 = stats.norm(90,15).pdf(x)\n",
    "y2 = stats.norm(100,20).pdf(x)\n",
    "plt.plot(x,y1, label='y1')\n",
    "plt.plot(x,y2, label='y2')\n",
    "plt.show()"
   ]
  },
  {
   "cell_type": "code",
   "execution_count": 26,
   "id": "3721d734",
   "metadata": {},
   "outputs": [
    {
     "data": {
      "text/plain": [
       "(-2.7091418459143854, 0.00811206270346016)"
      ]
     },
     "execution_count": 26,
     "metadata": {},
     "output_type": "execute_result"
    }
   ],
   "source": [
    "t, p = stats.ttest_ind_from_stats(mean1=90.0, std1=15, nobs1=40,\n",
    "                                  mean2=100, std2=20, nobs2=50,\n",
    "                                  equal_var=False)\n",
    "\n",
    "α = .05\n",
    "t,p"
   ]
  },
  {
   "cell_type": "code",
   "execution_count": 29,
   "id": "be354850",
   "metadata": {},
   "outputs": [
    {
     "data": {
      "text/plain": [
       "True"
      ]
     },
     "execution_count": 29,
     "metadata": {},
     "output_type": "execute_result"
    }
   ],
   "source": [
    "#is p < α?   if true reject the null\n",
    "\n",
    "p < α\n"
   ]
  },
  {
   "cell_type": "markdown",
   "id": "23274858",
   "metadata": {},
   "source": [
    "Reject the null hypothosis, the time it takes to sell in office 1 is significantly different from\n",
    "the time it takes in office 2"
   ]
  },
  {
   "cell_type": "markdown",
   "id": "c72e289a",
   "metadata": {},
   "source": [
    "# Load the mpg dataset and use it to answer the following questions:\n"
   ]
  },
  {
   "cell_type": "code",
   "execution_count": 4,
   "id": "b7e6276a",
   "metadata": {
    "scrolled": true
   },
   "outputs": [
    {
     "data": {
      "text/html": [
       "<div>\n",
       "<style scoped>\n",
       "    .dataframe tbody tr th:only-of-type {\n",
       "        vertical-align: middle;\n",
       "    }\n",
       "\n",
       "    .dataframe tbody tr th {\n",
       "        vertical-align: top;\n",
       "    }\n",
       "\n",
       "    .dataframe thead th {\n",
       "        text-align: right;\n",
       "    }\n",
       "</style>\n",
       "<table border=\"1\" class=\"dataframe\">\n",
       "  <thead>\n",
       "    <tr style=\"text-align: right;\">\n",
       "      <th></th>\n",
       "      <th>manufacturer</th>\n",
       "      <th>model</th>\n",
       "      <th>displ</th>\n",
       "      <th>year</th>\n",
       "      <th>cyl</th>\n",
       "      <th>trans</th>\n",
       "      <th>drv</th>\n",
       "      <th>cty</th>\n",
       "      <th>hwy</th>\n",
       "      <th>fl</th>\n",
       "      <th>class</th>\n",
       "      <th>mpg</th>\n",
       "    </tr>\n",
       "  </thead>\n",
       "  <tbody>\n",
       "    <tr>\n",
       "      <th>1</th>\n",
       "      <td>audi</td>\n",
       "      <td>a4</td>\n",
       "      <td>1.8</td>\n",
       "      <td>1999</td>\n",
       "      <td>4</td>\n",
       "      <td>auto(l5)</td>\n",
       "      <td>f</td>\n",
       "      <td>18</td>\n",
       "      <td>29</td>\n",
       "      <td>p</td>\n",
       "      <td>compact</td>\n",
       "      <td>23.5</td>\n",
       "    </tr>\n",
       "    <tr>\n",
       "      <th>2</th>\n",
       "      <td>audi</td>\n",
       "      <td>a4</td>\n",
       "      <td>1.8</td>\n",
       "      <td>1999</td>\n",
       "      <td>4</td>\n",
       "      <td>manual(m5)</td>\n",
       "      <td>f</td>\n",
       "      <td>21</td>\n",
       "      <td>29</td>\n",
       "      <td>p</td>\n",
       "      <td>compact</td>\n",
       "      <td>25.0</td>\n",
       "    </tr>\n",
       "    <tr>\n",
       "      <th>3</th>\n",
       "      <td>audi</td>\n",
       "      <td>a4</td>\n",
       "      <td>2.0</td>\n",
       "      <td>2008</td>\n",
       "      <td>4</td>\n",
       "      <td>manual(m6)</td>\n",
       "      <td>f</td>\n",
       "      <td>20</td>\n",
       "      <td>31</td>\n",
       "      <td>p</td>\n",
       "      <td>compact</td>\n",
       "      <td>25.5</td>\n",
       "    </tr>\n",
       "    <tr>\n",
       "      <th>4</th>\n",
       "      <td>audi</td>\n",
       "      <td>a4</td>\n",
       "      <td>2.0</td>\n",
       "      <td>2008</td>\n",
       "      <td>4</td>\n",
       "      <td>auto(av)</td>\n",
       "      <td>f</td>\n",
       "      <td>21</td>\n",
       "      <td>30</td>\n",
       "      <td>p</td>\n",
       "      <td>compact</td>\n",
       "      <td>25.5</td>\n",
       "    </tr>\n",
       "    <tr>\n",
       "      <th>5</th>\n",
       "      <td>audi</td>\n",
       "      <td>a4</td>\n",
       "      <td>2.8</td>\n",
       "      <td>1999</td>\n",
       "      <td>6</td>\n",
       "      <td>auto(l5)</td>\n",
       "      <td>f</td>\n",
       "      <td>16</td>\n",
       "      <td>26</td>\n",
       "      <td>p</td>\n",
       "      <td>compact</td>\n",
       "      <td>21.0</td>\n",
       "    </tr>\n",
       "  </tbody>\n",
       "</table>\n",
       "</div>"
      ],
      "text/plain": [
       "  manufacturer model  displ  year  cyl       trans drv  cty  hwy fl    class  \\\n",
       "1         audi    a4    1.8  1999    4    auto(l5)   f   18   29  p  compact   \n",
       "2         audi    a4    1.8  1999    4  manual(m5)   f   21   29  p  compact   \n",
       "3         audi    a4    2.0  2008    4  manual(m6)   f   20   31  p  compact   \n",
       "4         audi    a4    2.0  2008    4    auto(av)   f   21   30  p  compact   \n",
       "5         audi    a4    2.8  1999    6    auto(l5)   f   16   26  p  compact   \n",
       "\n",
       "    mpg  \n",
       "1  23.5  \n",
       "2  25.0  \n",
       "3  25.5  \n",
       "4  25.5  \n",
       "5  21.0  "
      ]
     },
     "execution_count": 4,
     "metadata": {},
     "output_type": "execute_result"
    }
   ],
   "source": [
    "df = data('mpg')\n",
    "\n",
    "# creating a mpg field averaging the city and hwy mileage\n",
    "df['mpg'] = (df['cty'] + df['hwy']) / 2\n",
    "\n",
    "#display first few rows of data\n",
    "df.head()"
   ]
  },
  {
   "cell_type": "markdown",
   "id": "dd88171c",
   "metadata": {},
   "source": [
    "# Is there a difference in fuel-efficiency in cars from 2008 vs 1999?\n"
   ]
  },
  {
   "cell_type": "code",
   "execution_count": 5,
   "id": "f3756615",
   "metadata": {},
   "outputs": [
    {
     "data": {
      "text/plain": [
       "0.855517569468803"
      ]
     },
     "execution_count": 5,
     "metadata": {},
     "output_type": "execute_result"
    }
   ],
   "source": [
    "new = df[df.year == 2008]\n",
    "old = df[df.year == 1999]\n",
    "\n",
    "α = .05\n",
    "\n",
    "# find confidence level to determine if variance is True/False\n",
    "    #H0 variance is equal\n",
    "    #Ha variance is inqual\n",
    "stat, p = stats.levene(new.mpg, old.mpg)\n",
    "p"
   ]
  },
  {
   "cell_type": "markdown",
   "id": "c594e3ef",
   "metadata": {},
   "source": [
    "    H0 = 2008 cars have == fuel efficiency to 1999 cars\n",
    "    Ha = 2008 cars have != fuel efficiency to 1999 cars\n",
    "    \n",
    "            p > α so var = True"
   ]
  },
  {
   "cell_type": "code",
   "execution_count": 6,
   "id": "c6b9be3f",
   "metadata": {},
   "outputs": [],
   "source": [
    "t, p = stats.ttest_ind(new.mpg, old.mpg, equal_var=True)"
   ]
  },
  {
   "cell_type": "code",
   "execution_count": 36,
   "id": "24559189",
   "metadata": {},
   "outputs": [
    {
     "data": {
      "text/plain": [
       "False"
      ]
     },
     "execution_count": 36,
     "metadata": {},
     "output_type": "execute_result"
    }
   ],
   "source": [
    "# Is the p-value greater than alpha? if so than reject null hyp\n",
    "\n",
    "p > α"
   ]
  },
  {
   "cell_type": "markdown",
   "id": "20285d70",
   "metadata": {},
   "source": [
    "We cannot reject the null hypothesis.  There is not a significant difference in fuel-efficiency in cars from 2008 vs 1999"
   ]
  },
  {
   "cell_type": "markdown",
   "id": "25ebffd1",
   "metadata": {},
   "source": [
    "# Are compact cars more fuel-efficient than the average car?\n"
   ]
  },
  {
   "cell_type": "code",
   "execution_count": 8,
   "id": "97e21d42",
   "metadata": {},
   "outputs": [],
   "source": [
    "compact = df[df['class'] == 'compact']\n",
    "α = .05\n",
    "\n",
    "\n",
    "μth = df.mpg.mean()"
   ]
  },
  {
   "cell_type": "markdown",
   "id": "62cba682",
   "metadata": {},
   "source": [
    "    H0 = compact cars are not more fuel efficient than the average car ( mileage <= average )\n",
    "    Ha = compact cars are more fuel efficient than the average car (mileage > average )"
   ]
  },
  {
   "cell_type": "code",
   "execution_count": 9,
   "id": "9ca4e52a",
   "metadata": {},
   "outputs": [
    {
     "data": {
      "text/plain": [
       "(7.896888573132535, 4.1985637943171186e-10)"
      ]
     },
     "execution_count": 9,
     "metadata": {},
     "output_type": "execute_result"
    }
   ],
   "source": [
    "t, p = stats.ttest_1samp(compact.mpg, μth)\n",
    "t, p"
   ]
  },
  {
   "cell_type": "code",
   "execution_count": 10,
   "id": "fff4e6e6",
   "metadata": {},
   "outputs": [
    {
     "name": "stdout",
     "output_type": "stream",
     "text": [
      "we can reject the null hypothesis\n"
     ]
    }
   ],
   "source": [
    "if ((p / 2) < α) and (t > 0):\n",
    "    print('we can reject the null hypothesis')\n",
    "else: \n",
    "    print('we fail to reject the null hypothesis')"
   ]
  },
  {
   "cell_type": "markdown",
   "id": "cd0f0668",
   "metadata": {},
   "source": [
    "compact cars are more fuel efficient that the average car"
   ]
  },
  {
   "cell_type": "markdown",
   "id": "bd3dbeae",
   "metadata": {},
   "source": [
    "\n",
    "\n",
    "# Do manual cars get better gas mileage than automatic cars?"
   ]
  },
  {
   "cell_type": "code",
   "execution_count": 33,
   "id": "3fb927f4",
   "metadata": {},
   "outputs": [
    {
     "data": {
      "text/plain": [
       "0.6545276355131857"
      ]
     },
     "execution_count": 33,
     "metadata": {},
     "output_type": "execute_result"
    }
   ],
   "source": [
    "manual = df[df['trans'].str.contains(\"manual\")]\n",
    "auto = df[df['trans'].str.contains(\"auto\")]\n",
    "α = .05\n",
    "\n",
    "stat, p = stats.levene(manual.mpg, auto.mpg)\n",
    "p"
   ]
  },
  {
   "cell_type": "markdown",
   "id": "4cef9d66",
   "metadata": {},
   "source": [
    "    H0 = manual cars do not get better gas mileage than automatic cars (manual mpg <= auto mpg)\n",
    "    Ha = manual cars get better gas mileage than automatic cars (manual mpg >= auto mpg)\n",
    "    \n",
    "                p > α so var = True"
   ]
  },
  {
   "cell_type": "code",
   "execution_count": 34,
   "id": "30ac97f8",
   "metadata": {},
   "outputs": [
    {
     "data": {
      "text/plain": [
       "(4.593437735750014, 7.154374401145685e-06)"
      ]
     },
     "execution_count": 34,
     "metadata": {},
     "output_type": "execute_result"
    }
   ],
   "source": [
    "t, p = stats.ttest_ind(manual.mpg, auto.mpg, equal_var=True)\n",
    "t,p"
   ]
  },
  {
   "cell_type": "code",
   "execution_count": 37,
   "id": "2f855563",
   "metadata": {},
   "outputs": [
    {
     "data": {
      "text/plain": [
       "True"
      ]
     },
     "execution_count": 37,
     "metadata": {},
     "output_type": "execute_result"
    }
   ],
   "source": [
    "# Is the p-value/2 less than alpha and t > 0? if so than reject null hyp\n",
    "\n",
    "(p/2 < α) and (t > 0)"
   ]
  },
  {
   "cell_type": "markdown",
   "id": "0d36d199",
   "metadata": {},
   "source": [
    "The null hypothesis is rejected, manual cars get better gas mileage"
   ]
  }
 ],
 "metadata": {
  "kernelspec": {
   "display_name": "Python 3 (ipykernel)",
   "language": "python",
   "name": "python3"
  },
  "language_info": {
   "codemirror_mode": {
    "name": "ipython",
    "version": 3
   },
   "file_extension": ".py",
   "mimetype": "text/x-python",
   "name": "python",
   "nbconvert_exporter": "python",
   "pygments_lexer": "ipython3",
   "version": "3.9.12"
  }
 },
 "nbformat": 4,
 "nbformat_minor": 5
}
