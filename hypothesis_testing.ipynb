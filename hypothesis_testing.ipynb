{
 "cells": [
  {
   "cell_type": "code",
   "execution_count": 120,
   "id": "33ffe2cd",
   "metadata": {},
   "outputs": [],
   "source": [
    "import numpy as np\n",
    "import seaborn as sns\n",
    "import scipy.stats as stats\n",
    "import pandas as pd\n",
    "from pydataset import data\n",
    "import matplotlib.pyplot as plt\n",
    "from env import user, password, host\n",
    "\n",
    "def get_db_url(user, host, password, database):\n",
    "    url = f'mysql+pymysql://{user}:{password}@{host}/{database}'\n",
    "    return url"
   ]
  },
  {
   "cell_type": "markdown",
   "id": "4928271f",
   "metadata": {},
   "source": [
    "For each of the following questions, formulate a null and alternative hypothesis (be as specific as you can be), then give an example of what a true positive, true negative, type I and type II errors would look like. Note that some of the questions are intentionally phrased in a vague way. It is your job to reword these as more precise questions that could be tested.\n",
    "\n"
   ]
  },
  {
   "cell_type": "markdown",
   "id": "67572ba2",
   "metadata": {},
   "source": [
    "Has the network latency gone up since we switched internet service providers?\n",
    "\n",
    "    H0:  There is no change in network latency since we switched internet service providers\n",
    "    Ha:  There is an increase in latency since we switched internet service providers\n",
    "        \n",
    "    True Positive:  we determine latency has changed, and in reality that is true\n",
    "    True Negative:  we determine latency hasn't changed, and in reality that is true\n",
    "    \n",
    "    Type I:  we determine latency has changed, but in reality it hasn't\n",
    "    Type II: we determine latency hasn't changed, but in reality is has"
   ]
  },
  {
   "cell_type": "markdown",
   "id": "a7e54d1b",
   "metadata": {},
   "source": [
    "Is the website redesign any good?\n",
    "\n",
    "    H0:  There is no change in traffic since the redesign\n",
    "    Ha:  There is less traffic since the redesign\n",
    "        \n",
    "    True Positive:  we determine traffic has changed, and in reality that is true\n",
    "    True Negative:  we determine traffic hasn't changed, and in reality that is true\n",
    "\n",
    "    Type I:  we determine traffic has changed, but in reality it hasn't\n",
    "    Type II: we determine traffic hasn't changed, but in reality is has"
   ]
  },
  {
   "cell_type": "markdown",
   "id": "71852ee0",
   "metadata": {},
   "source": [
    "Is our television ad driving more sales?\n",
    "\n",
    "    H0:  There is no increase in sales since the ad aired\n",
    "    Ha:  There is more sales since the ad aired\n",
    "\n",
    "    True Positive:  we determine sales have increased, and in reality that is true\n",
    "    True Negative:  we determine sales haven't increased, and in reality that is true\n",
    "\n",
    "    Type I:  we determine sales have increased, but in reality they haven't\n",
    "    Type II: we determine sales havn't increased, but in reality they have "
   ]
  },
  {
   "cell_type": "markdown",
   "id": "01f78814",
   "metadata": {},
   "source": [
    "Ace Realty wants to determine whether the average time it takes to sell homes is different \n",
    "for its two offices. A sample of 40 sales from office #1 revealed a mean of 90 days and a \n",
    "standard deviation of 15 days. A sample of 50 sales from office #2 revealed a mean of 100 days \n",
    "and a standard deviation of 20 days. Use a .05 level of significance."
   ]
  },
  {
   "cell_type": "markdown",
   "id": "3edf6d0e",
   "metadata": {},
   "source": [
    "    H0 = office 1 time to sell is == to office 2\n",
    "    Ha = office 1 time to sell is != to office 2"
   ]
  },
  {
   "cell_type": "code",
   "execution_count": 2,
   "id": "82623590",
   "metadata": {},
   "outputs": [
    {
     "data": {
      "image/png": "[encoded data removed]",
      "text/plain": [
       "<Figure size 432x288 with 1 Axes>"
      ]
     },
     "metadata": {
      "needs_background": "light"
     },
     "output_type": "display_data"
    }
   ],
   "source": [
    "x = np.arange(50,150)\n",
    "y1 = stats.norm(90,15).pdf(x)\n",
    "y2 = stats.norm(100,20).pdf(x)\n",
    "plt.plot(x,y1, label='y1')\n",
    "plt.plot(x,y2, label='y2')\n",
    "plt.show()"
   ]
  },
  {
   "cell_type": "code",
   "execution_count": 3,
   "id": "3721d734",
   "metadata": {},
   "outputs": [
    {
     "data": {
      "text/plain": [
       "(-2.7091418459143854, 0.00811206270346016)"
      ]
     },
     "execution_count": 3,
     "metadata": {},
     "output_type": "execute_result"
    }
   ],
   "source": [
    "t, p = stats.ttest_ind_from_stats(mean1=90.0, std1=15, nobs1=40,\n",
    "                                  mean2=100, std2=20, nobs2=50,\n",
    "                                  equal_var=False)\n",
    "\n",
    "α = .05\n",
    "t,p"
   ]
  },
  {
   "cell_type": "code",
   "execution_count": 4,
   "id": "be354850",
   "metadata": {},
   "outputs": [
    {
     "data": {
      "text/plain": [
       "True"
      ]
     },
     "execution_count": 4,
     "metadata": {},
     "output_type": "execute_result"
    }
   ],
   "source": [
    "#is p < α?   if true reject the null\n",
    "\n",
    "p < α\n"
   ]
  },
  {
   "cell_type": "markdown",
   "id": "23274858",
   "metadata": {},
   "source": [
    "Reject the null hypothosis, the time it takes to sell in office 1 is significantly different from\n",
    "the time it takes in office 2"
   ]
  },
  {
   "cell_type": "markdown",
   "id": "c72e289a",
   "metadata": {},
   "source": [
    "# Load the mpg dataset and use it to answer the following questions:\n"
   ]
  },
  {
   "cell_type": "code",
   "execution_count": 5,
   "id": "b7e6276a",
   "metadata": {
    "scrolled": true
   },
   "outputs": [
    {
     "data": {
      "text/html": [
       "<div>\n",
       "<style scoped>\n",
       "    .dataframe tbody tr th:only-of-type {\n",
       "        vertical-align: middle;\n",
       "    }\n",
       "\n",
       "    .dataframe tbody tr th {\n",
       "        vertical-align: top;\n",
       "    }\n",
       "\n",
       "    .dataframe thead th {\n",
       "        text-align: right;\n",
       "    }\n",
       "</style>\n",
       "<table border=\"1\" class=\"dataframe\">\n",
       "  <thead>\n",
       "    <tr style=\"text-align: right;\">\n",
       "      <th></th>\n",
       "      <th>manufacturer</th>\n",
       "      <th>model</th>\n",
       "      <th>displ</th>\n",
       "      <th>year</th>\n",
       "      <th>cyl</th>\n",
       "      <th>trans</th>\n",
       "      <th>drv</th>\n",
       "      <th>cty</th>\n",
       "      <th>hwy</th>\n",
       "      <th>fl</th>\n",
       "      <th>class</th>\n",
       "      <th>mpg</th>\n",
       "    </tr>\n",
       "  </thead>\n",
       "  <tbody>\n",
       "    <tr>\n",
       "      <th>1</th>\n",
       "      <td>audi</td>\n",
       "      <td>a4</td>\n",
       "      <td>1.8</td>\n",
       "      <td>1999</td>\n",
       "      <td>4</td>\n",
       "      <td>auto(l5)</td>\n",
       "      <td>f</td>\n",
       "      <td>18</td>\n",
       "      <td>29</td>\n",
       "      <td>p</td>\n",
       "      <td>compact</td>\n",
       "      <td>23.5</td>\n",
       "    </tr>\n",
       "    <tr>\n",
       "      <th>2</th>\n",
       "      <td>audi</td>\n",
       "      <td>a4</td>\n",
       "      <td>1.8</td>\n",
       "      <td>1999</td>\n",
       "      <td>4</td>\n",
       "      <td>manual(m5)</td>\n",
       "      <td>f</td>\n",
       "      <td>21</td>\n",
       "      <td>29</td>\n",
       "      <td>p</td>\n",
       "      <td>compact</td>\n",
       "      <td>25.0</td>\n",
       "    </tr>\n",
       "    <tr>\n",
       "      <th>3</th>\n",
       "      <td>audi</td>\n",
       "      <td>a4</td>\n",
       "      <td>2.0</td>\n",
       "      <td>2008</td>\n",
       "      <td>4</td>\n",
       "      <td>manual(m6)</td>\n",
       "      <td>f</td>\n",
       "      <td>20</td>\n",
       "      <td>31</td>\n",
       "      <td>p</td>\n",
       "      <td>compact</td>\n",
       "      <td>25.5</td>\n",
       "    </tr>\n",
       "    <tr>\n",
       "      <th>4</th>\n",
       "      <td>audi</td>\n",
       "      <td>a4</td>\n",
       "      <td>2.0</td>\n",
       "      <td>2008</td>\n",
       "      <td>4</td>\n",
       "      <td>auto(av)</td>\n",
       "      <td>f</td>\n",
       "      <td>21</td>\n",
       "      <td>30</td>\n",
       "      <td>p</td>\n",
       "      <td>compact</td>\n",
       "      <td>25.5</td>\n",
       "    </tr>\n",
       "    <tr>\n",
       "      <th>5</th>\n",
       "      <td>audi</td>\n",
       "      <td>a4</td>\n",
       "      <td>2.8</td>\n",
       "      <td>1999</td>\n",
       "      <td>6</td>\n",
       "      <td>auto(l5)</td>\n",
       "      <td>f</td>\n",
       "      <td>16</td>\n",
       "      <td>26</td>\n",
       "      <td>p</td>\n",
       "      <td>compact</td>\n",
       "      <td>21.0</td>\n",
       "    </tr>\n",
       "  </tbody>\n",
       "</table>\n",
       "</div>"
      ],
      "text/plain": [
       "  manufacturer model  displ  year  cyl       trans drv  cty  hwy fl    class  \\\n",
       "1         audi    a4    1.8  1999    4    auto(l5)   f   18   29  p  compact   \n",
       "2         audi    a4    1.8  1999    4  manual(m5)   f   21   29  p  compact   \n",
       "3         audi    a4    2.0  2008    4  manual(m6)   f   20   31  p  compact   \n",
       "4         audi    a4    2.0  2008    4    auto(av)   f   21   30  p  compact   \n",
       "5         audi    a4    2.8  1999    6    auto(l5)   f   16   26  p  compact   \n",
       "\n",
       "    mpg  \n",
       "1  23.5  \n",
       "2  25.0  \n",
       "3  25.5  \n",
       "4  25.5  \n",
       "5  21.0  "
      ]
     },
     "execution_count": 5,
     "metadata": {},
     "output_type": "execute_result"
    }
   ],
   "source": [
    "df = data('mpg')\n",
    "\n",
    "# creating a mpg field averaging the city and hwy mileage\n",
    "df['mpg'] = (df['cty'] + df['hwy']) / 2\n",
    "\n",
    "#display first few rows of data\n",
    "df.head()"
   ]
  },
  {
   "cell_type": "markdown",
   "id": "dd88171c",
   "metadata": {},
   "source": [
    "# Is there a difference in fuel-efficiency in cars from 2008 vs 1999?\n"
   ]
  },
  {
   "cell_type": "code",
   "execution_count": 6,
   "id": "f3756615",
   "metadata": {},
   "outputs": [
    {
     "data": {
      "text/plain": [
       "0.855517569468803"
      ]
     },
     "execution_count": 6,
     "metadata": {},
     "output_type": "execute_result"
    }
   ],
   "source": [
    "new = df[df.year == 2008]\n",
    "old = df[df.year == 1999]\n",
    "\n",
    "α = .05\n",
    "\n",
    "# find confidence level to determine if variance is True/False\n",
    "    #H0 variance is equal\n",
    "    #Ha variance is inqual\n",
    "stat, p = stats.levene(new.mpg, old.mpg)\n",
    "p"
   ]
  },
  {
   "cell_type": "markdown",
   "id": "c594e3ef",
   "metadata": {},
   "source": [
    "    H0 = 2008 cars have == fuel efficiency to 1999 cars\n",
    "    Ha = 2008 cars have != fuel efficiency to 1999 cars\n",
    "    \n",
    "            p > α so var = True"
   ]
  },
  {
   "cell_type": "code",
   "execution_count": 7,
   "id": "c6b9be3f",
   "metadata": {},
   "outputs": [],
   "source": [
    "t, p = stats.ttest_ind(new.mpg, old.mpg, equal_var=True)"
   ]
  },
  {
   "cell_type": "code",
   "execution_count": 8,
   "id": "24559189",
   "metadata": {},
   "outputs": [
    {
     "data": {
      "text/plain": [
       "True"
      ]
     },
     "execution_count": 8,
     "metadata": {},
     "output_type": "execute_result"
    }
   ],
   "source": [
    "# Is the p-value greater than alpha? if so than reject null hyp\n",
    "\n",
    "p > α"
   ]
  },
  {
   "cell_type": "markdown",
   "id": "20285d70",
   "metadata": {},
   "source": [
    "We cannot reject the null hypothesis.  There is not a significant difference in fuel-efficiency in cars from 2008 vs 1999"
   ]
  },
  {
   "cell_type": "markdown",
   "id": "25ebffd1",
   "metadata": {},
   "source": [
    "# Are compact cars more fuel-efficient than the average car?\n"
   ]
  },
  {
   "cell_type": "code",
   "execution_count": 9,
   "id": "97e21d42",
   "metadata": {},
   "outputs": [],
   "source": [
    "compact = df[df['class'] == 'compact']\n",
    "α = .05\n",
    "\n",
    "\n",
    "μth = df.mpg.mean()"
   ]
  },
  {
   "cell_type": "markdown",
   "id": "62cba682",
   "metadata": {},
   "source": [
    "    H0 = compact cars are not more fuel efficient than the average car ( mileage <= average )\n",
    "    Ha = compact cars are more fuel efficient than the average car (mileage > average )"
   ]
  },
  {
   "cell_type": "code",
   "execution_count": 10,
   "id": "9ca4e52a",
   "metadata": {},
   "outputs": [
    {
     "data": {
      "text/plain": [
       "(7.896888573132535, 4.1985637943171186e-10)"
      ]
     },
     "execution_count": 10,
     "metadata": {},
     "output_type": "execute_result"
    }
   ],
   "source": [
    "t, p = stats.ttest_1samp(compact.mpg, μth)\n",
    "t, p"
   ]
  },
  {
   "cell_type": "code",
   "execution_count": 11,
   "id": "fff4e6e6",
   "metadata": {},
   "outputs": [
    {
     "name": "stdout",
     "output_type": "stream",
     "text": [
      "we can reject the null hypothesis\n"
     ]
    }
   ],
   "source": [
    "if ((p / 2) < α) and (t > 0):\n",
    "    print('we can reject the null hypothesis')\n",
    "else: \n",
    "    print('we fail to reject the null hypothesis')"
   ]
  },
  {
   "cell_type": "markdown",
   "id": "cd0f0668",
   "metadata": {},
   "source": [
    "compact cars are more fuel efficient that the average car"
   ]
  },
  {
   "cell_type": "markdown",
   "id": "bd3dbeae",
   "metadata": {},
   "source": [
    "\n",
    "\n",
    "# Do manual cars get better gas mileage than automatic cars?"
   ]
  },
  {
   "cell_type": "code",
   "execution_count": 12,
   "id": "3fb927f4",
   "metadata": {},
   "outputs": [
    {
     "data": {
      "text/plain": [
       "0.6545276355131857"
      ]
     },
     "execution_count": 12,
     "metadata": {},
     "output_type": "execute_result"
    }
   ],
   "source": [
    "manual = df[df['trans'].str.contains(\"manual\")]\n",
    "auto = df[df['trans'].str.contains(\"auto\")]\n",
    "α = .05\n",
    "\n",
    "stat, p = stats.levene(manual.mpg, auto.mpg)\n",
    "p"
   ]
  },
  {
   "cell_type": "markdown",
   "id": "4cef9d66",
   "metadata": {},
   "source": [
    "    H0 = manual cars do not get better gas mileage than automatic cars (manual mpg <= auto mpg)\n",
    "    Ha = manual cars get better gas mileage than automatic cars (manual mpg >= auto mpg)\n",
    "    \n",
    "                p > α so var = True"
   ]
  },
  {
   "cell_type": "code",
   "execution_count": 13,
   "id": "30ac97f8",
   "metadata": {},
   "outputs": [
    {
     "data": {
      "text/plain": [
       "(4.593437735750014, 7.154374401145685e-06)"
      ]
     },
     "execution_count": 13,
     "metadata": {},
     "output_type": "execute_result"
    }
   ],
   "source": [
    "t, p = stats.ttest_ind(manual.mpg, auto.mpg, equal_var=True)\n",
    "t,p"
   ]
  },
  {
   "cell_type": "code",
   "execution_count": 14,
   "id": "2f855563",
   "metadata": {},
   "outputs": [
    {
     "data": {
      "text/plain": [
       "True"
      ]
     },
     "execution_count": 14,
     "metadata": {},
     "output_type": "execute_result"
    }
   ],
   "source": [
    "# Is the p-value/2 less than alpha and t > 0? if so than reject null hyp\n",
    "\n",
    "(p/2 < α) and (t > 0)"
   ]
  },
  {
   "cell_type": "markdown",
   "id": "0d36d199",
   "metadata": {},
   "source": [
    "The null hypothesis is rejected, manual cars get better gas mileage"
   ]
  },
  {
   "cell_type": "markdown",
   "id": "63c30b9a",
   "metadata": {},
   "source": [
    "# Use the telco_churn data. Does tenure correlate with monthly charges? "
   ]
  },
  {
   "cell_type": "code",
   "execution_count": 145,
   "id": "09eb21c2",
   "metadata": {},
   "outputs": [
    {
     "data": {
      "text/html": [
       "<div>\n",
       "<style scoped>\n",
       "    .dataframe tbody tr th:only-of-type {\n",
       "        vertical-align: middle;\n",
       "    }\n",
       "\n",
       "    .dataframe tbody tr th {\n",
       "        vertical-align: top;\n",
       "    }\n",
       "\n",
       "    .dataframe thead th {\n",
       "        text-align: right;\n",
       "    }\n",
       "</style>\n",
       "<table border=\"1\" class=\"dataframe\">\n",
       "  <thead>\n",
       "    <tr style=\"text-align: right;\">\n",
       "      <th></th>\n",
       "      <th>customerID</th>\n",
       "      <th>gender</th>\n",
       "      <th>SeniorCitizen</th>\n",
       "      <th>Partner</th>\n",
       "      <th>Dependents</th>\n",
       "      <th>tenure</th>\n",
       "      <th>PhoneService</th>\n",
       "      <th>MultipleLines</th>\n",
       "      <th>InternetService</th>\n",
       "      <th>OnlineSecurity</th>\n",
       "      <th>...</th>\n",
       "      <th>DeviceProtection</th>\n",
       "      <th>TechSupport</th>\n",
       "      <th>StreamingTV</th>\n",
       "      <th>StreamingMovies</th>\n",
       "      <th>Contract</th>\n",
       "      <th>PaperlessBilling</th>\n",
       "      <th>PaymentMethod</th>\n",
       "      <th>MonthlyCharges</th>\n",
       "      <th>TotalCharges</th>\n",
       "      <th>Churn</th>\n",
       "    </tr>\n",
       "  </thead>\n",
       "  <tbody>\n",
       "    <tr>\n",
       "      <th>0</th>\n",
       "      <td>7590-VHVEG</td>\n",
       "      <td>Female</td>\n",
       "      <td>0</td>\n",
       "      <td>Yes</td>\n",
       "      <td>No</td>\n",
       "      <td>1</td>\n",
       "      <td>No</td>\n",
       "      <td>No phone service</td>\n",
       "      <td>DSL</td>\n",
       "      <td>No</td>\n",
       "      <td>...</td>\n",
       "      <td>No</td>\n",
       "      <td>No</td>\n",
       "      <td>No</td>\n",
       "      <td>No</td>\n",
       "      <td>Month-to-month</td>\n",
       "      <td>Yes</td>\n",
       "      <td>Electronic check</td>\n",
       "      <td>29.85</td>\n",
       "      <td>29.85</td>\n",
       "      <td>No</td>\n",
       "    </tr>\n",
       "    <tr>\n",
       "      <th>1</th>\n",
       "      <td>5575-GNVDE</td>\n",
       "      <td>Male</td>\n",
       "      <td>0</td>\n",
       "      <td>No</td>\n",
       "      <td>No</td>\n",
       "      <td>34</td>\n",
       "      <td>Yes</td>\n",
       "      <td>No</td>\n",
       "      <td>DSL</td>\n",
       "      <td>Yes</td>\n",
       "      <td>...</td>\n",
       "      <td>Yes</td>\n",
       "      <td>No</td>\n",
       "      <td>No</td>\n",
       "      <td>No</td>\n",
       "      <td>One year</td>\n",
       "      <td>No</td>\n",
       "      <td>Mailed check</td>\n",
       "      <td>56.95</td>\n",
       "      <td>1889.50</td>\n",
       "      <td>No</td>\n",
       "    </tr>\n",
       "    <tr>\n",
       "      <th>2</th>\n",
       "      <td>3668-QPYBK</td>\n",
       "      <td>Male</td>\n",
       "      <td>0</td>\n",
       "      <td>No</td>\n",
       "      <td>No</td>\n",
       "      <td>2</td>\n",
       "      <td>Yes</td>\n",
       "      <td>No</td>\n",
       "      <td>DSL</td>\n",
       "      <td>Yes</td>\n",
       "      <td>...</td>\n",
       "      <td>No</td>\n",
       "      <td>No</td>\n",
       "      <td>No</td>\n",
       "      <td>No</td>\n",
       "      <td>Month-to-month</td>\n",
       "      <td>Yes</td>\n",
       "      <td>Mailed check</td>\n",
       "      <td>53.85</td>\n",
       "      <td>108.15</td>\n",
       "      <td>Yes</td>\n",
       "    </tr>\n",
       "    <tr>\n",
       "      <th>3</th>\n",
       "      <td>7795-CFOCW</td>\n",
       "      <td>Male</td>\n",
       "      <td>0</td>\n",
       "      <td>No</td>\n",
       "      <td>No</td>\n",
       "      <td>45</td>\n",
       "      <td>No</td>\n",
       "      <td>No phone service</td>\n",
       "      <td>DSL</td>\n",
       "      <td>Yes</td>\n",
       "      <td>...</td>\n",
       "      <td>Yes</td>\n",
       "      <td>Yes</td>\n",
       "      <td>No</td>\n",
       "      <td>No</td>\n",
       "      <td>One year</td>\n",
       "      <td>No</td>\n",
       "      <td>Bank transfer (automatic)</td>\n",
       "      <td>42.30</td>\n",
       "      <td>1840.75</td>\n",
       "      <td>No</td>\n",
       "    </tr>\n",
       "    <tr>\n",
       "      <th>4</th>\n",
       "      <td>9237-HQITU</td>\n",
       "      <td>Female</td>\n",
       "      <td>0</td>\n",
       "      <td>No</td>\n",
       "      <td>No</td>\n",
       "      <td>2</td>\n",
       "      <td>Yes</td>\n",
       "      <td>No</td>\n",
       "      <td>Fiber optic</td>\n",
       "      <td>No</td>\n",
       "      <td>...</td>\n",
       "      <td>No</td>\n",
       "      <td>No</td>\n",
       "      <td>No</td>\n",
       "      <td>No</td>\n",
       "      <td>Month-to-month</td>\n",
       "      <td>Yes</td>\n",
       "      <td>Electronic check</td>\n",
       "      <td>70.70</td>\n",
       "      <td>151.65</td>\n",
       "      <td>Yes</td>\n",
       "    </tr>\n",
       "  </tbody>\n",
       "</table>\n",
       "<p>5 rows × 21 columns</p>\n",
       "</div>"
      ],
      "text/plain": [
       "   customerID  gender  SeniorCitizen Partner Dependents  tenure PhoneService  \\\n",
       "0  7590-VHVEG  Female              0     Yes         No       1           No   \n",
       "1  5575-GNVDE    Male              0      No         No      34          Yes   \n",
       "2  3668-QPYBK    Male              0      No         No       2          Yes   \n",
       "3  7795-CFOCW    Male              0      No         No      45           No   \n",
       "4  9237-HQITU  Female              0      No         No       2          Yes   \n",
       "\n",
       "      MultipleLines InternetService OnlineSecurity  ... DeviceProtection  \\\n",
       "0  No phone service             DSL             No  ...               No   \n",
       "1                No             DSL            Yes  ...              Yes   \n",
       "2                No             DSL            Yes  ...               No   \n",
       "3  No phone service             DSL            Yes  ...              Yes   \n",
       "4                No     Fiber optic             No  ...               No   \n",
       "\n",
       "  TechSupport StreamingTV StreamingMovies        Contract PaperlessBilling  \\\n",
       "0          No          No              No  Month-to-month              Yes   \n",
       "1          No          No              No        One year               No   \n",
       "2          No          No              No  Month-to-month              Yes   \n",
       "3         Yes          No              No        One year               No   \n",
       "4          No          No              No  Month-to-month              Yes   \n",
       "\n",
       "               PaymentMethod MonthlyCharges  TotalCharges  Churn  \n",
       "0           Electronic check          29.85         29.85     No  \n",
       "1               Mailed check          56.95       1889.50     No  \n",
       "2               Mailed check          53.85        108.15    Yes  \n",
       "3  Bank transfer (automatic)          42.30       1840.75     No  \n",
       "4           Electronic check          70.70        151.65    Yes  \n",
       "\n",
       "[5 rows x 21 columns]"
      ]
     },
     "execution_count": 145,
     "metadata": {},
     "output_type": "execute_result"
    }
   ],
   "source": [
    "# import telco data from the csv file provided and save to dataframe\n",
    "telco = pd.read_csv('telco_churn - telco_churn.csv')\n",
    "\n",
    "# drop NAs\n",
    "telco = telco.dropna()\n",
    "telco.head()"
   ]
  },
  {
   "cell_type": "markdown",
   "id": "5f2a2dda",
   "metadata": {},
   "source": [
    "- $H_0$: there is no linear relationship between tenure and monthly charges\n",
    "- $H_a$: there is a linear relationship between tenure and monthly charges\n"
   ]
  },
  {
   "cell_type": "code",
   "execution_count": 146,
   "id": "94e16a22",
   "metadata": {},
   "outputs": [],
   "source": [
    "#set the alpha\n",
    "alpha = .05"
   ]
  },
  {
   "cell_type": "code",
   "execution_count": 147,
   "id": "f266ff5a",
   "metadata": {},
   "outputs": [
    {
     "data": {
      "image/png": "[encoded data removed]",
      "text/plain": [
       "<Figure size 432x288 with 1 Axes>"
      ]
     },
     "metadata": {
      "needs_background": "light"
     },
     "output_type": "display_data"
    }
   ],
   "source": [
    "#get columns and plot the data\n",
    "x = telco.tenure\n",
    "y = telco.MonthlyCharges\n",
    "\n",
    "plt.scatter(x, y)\n",
    "\n",
    "plt.title(\"What's the relationship between Tenure and Monthly Charges?\")\n",
    "plt.xlabel('Tenure')\n",
    "plt.ylabel('Monthly Charges')\n",
    "plt.show()"
   ]
  },
  {
   "cell_type": "code",
   "execution_count": 148,
   "id": "b56b956b",
   "metadata": {},
   "outputs": [
    {
     "data": {
      "text/plain": [
       "(0.24686176664089593, 3.989821323249241e-98)"
      ]
     },
     "execution_count": 148,
     "metadata": {},
     "output_type": "execute_result"
    }
   ],
   "source": [
    "# calculate values\n",
    "r,p = stats.pearsonr(x,y)\n",
    "r,p"
   ]
  },
  {
   "cell_type": "code",
   "execution_count": 149,
   "id": "5eb0be0a",
   "metadata": {},
   "outputs": [
    {
     "name": "stdout",
     "output_type": "stream",
     "text": [
      "We reject the null hypothesis, there is a linear relationship\n"
     ]
    }
   ],
   "source": [
    "#evaluate p-value\n",
    "if p < alpha:\n",
    "    print(\"We reject the null hypothesis, there is a linear relationship\")\n",
    "else:\n",
    "    print(\"We fail to reject the null hypothesis, there is no linear relationship\")"
   ]
  },
  {
   "cell_type": "markdown",
   "id": "9977cbfe",
   "metadata": {},
   "source": [
    "# Total charges? "
   ]
  },
  {
   "cell_type": "markdown",
   "id": "5477d3a5",
   "metadata": {},
   "source": [
    "- $H_0$: there is no linear relationship between tenure and Total charges\n",
    "- $H_a$: there is a linear relationship between tenure and Total charges\n"
   ]
  },
  {
   "cell_type": "code",
   "execution_count": 150,
   "id": "99cdc615",
   "metadata": {},
   "outputs": [
    {
     "data": {
      "image/png": "[encoded data removed]",
      "text/plain": [
       "<Figure size 432x288 with 1 Axes>"
      ]
     },
     "metadata": {
      "needs_background": "light"
     },
     "output_type": "display_data"
    }
   ],
   "source": [
    "# get columns and plot values\n",
    "x = telco.tenure\n",
    "y = telco.TotalCharges\n",
    "\n",
    "plt.scatter(x, y)\n",
    "\n",
    "plt.title(\"What's the relationship between Tenure and Total Charges?\")\n",
    "plt.xlabel('Tenure')\n",
    "plt.ylabel('Monthly Charges')\n",
    "plt.show()"
   ]
  },
  {
   "cell_type": "code",
   "execution_count": 151,
   "id": "c78c8692",
   "metadata": {},
   "outputs": [
    {
     "data": {
      "text/plain": [
       "(0.8258804609332093, 0.0)"
      ]
     },
     "execution_count": 151,
     "metadata": {},
     "output_type": "execute_result"
    }
   ],
   "source": [
    "# calculate values\n",
    "r , p = stats.pearsonr(x,y)\n",
    "r,p"
   ]
  },
  {
   "cell_type": "code",
   "execution_count": 152,
   "id": "23840b23",
   "metadata": {},
   "outputs": [
    {
     "name": "stdout",
     "output_type": "stream",
     "text": [
      "We reject the null hypothesis, there is a linear relationship\n"
     ]
    }
   ],
   "source": [
    "#evaluate p-value\n",
    "if p < alpha:\n",
    "    print(\"We reject the null hypothesis, there is a linear relationship\")\n",
    "else:\n",
    "    print(\"We fail to reject the null hypothesis, there is no linear relationship\")"
   ]
  },
  {
   "cell_type": "markdown",
   "id": "a28cf801",
   "metadata": {},
   "source": [
    "# What happens if you control for phone service?\n"
   ]
  },
  {
   "cell_type": "markdown",
   "id": "493f7d28",
   "metadata": {},
   "source": [
    "- $H_0$: there is no linear relationship between tenure and Total charges when controlling for phone service\n",
    "- $H_a$: there is a linear relationship between tenure and Total charges when controlling for phone service\n"
   ]
  },
  {
   "cell_type": "code",
   "execution_count": 153,
   "id": "f835baf0",
   "metadata": {},
   "outputs": [
    {
     "data": {
      "image/png": "[encoded data removed]",
      "text/plain": [
       "<Figure size 720x360 with 2 Axes>"
      ]
     },
     "metadata": {
      "needs_background": "light"
     },
     "output_type": "display_data"
    }
   ],
   "source": [
    "# plot the data seperating for phone service\n",
    "sns.relplot(data=telco, x='tenure', y='TotalCharges', col='PhoneService')\n",
    "plt.show()\n",
    "\n"
   ]
  },
  {
   "cell_type": "code",
   "execution_count": 154,
   "id": "aab221c7",
   "metadata": {},
   "outputs": [
    {
     "data": {
      "text/plain": [
       "(0.8298393210699484, 0.0)"
      ]
     },
     "execution_count": 154,
     "metadata": {},
     "output_type": "execute_result"
    }
   ],
   "source": [
    "# calculate values and determine if relationship is linear for those with phone\n",
    "phone = telco[telco.PhoneService == 'Yes']\n",
    "\n",
    "x1 = phone.tenure\n",
    "y1 = phone.TotalCharges\n",
    "\n",
    "phone_r, phone_p = stats.pearsonr(x1,y1)\n",
    "phone_r, phone_p"
   ]
  },
  {
   "cell_type": "code",
   "execution_count": 107,
   "id": "920e87aa",
   "metadata": {},
   "outputs": [],
   "source": [
    "# calculate values and determine if relationship is linear for those with no phone\n",
    "no_phone = telco[telco.PhoneService != 'Yes']\n",
    "\n",
    "x2 = no_phone.tenure\n",
    "y2 = no_phone.TotalCharges\n",
    "\n",
    "no_phone_r, no_phone_p = stats.pearsonr(x1,y1)\n",
    "no_phone_r, no_phone_p = stats.pearsonr(x2,y2)\n"
   ]
  },
  {
   "cell_type": "code",
   "execution_count": 108,
   "id": "991f700d",
   "metadata": {},
   "outputs": [
    {
     "name": "stdout",
     "output_type": "stream",
     "text": [
      "We reject the null hypothesis, there is a linear relationship for those with phone service\n",
      "We reject the null hypothesis, there is a linear relationship for those without phone service\n"
     ]
    }
   ],
   "source": [
    "#evaluate p-value for both\n",
    "if phone_p < alpha:\n",
    "    print(\"We reject the null hypothesis, there is a linear relationship for those with phone service\")\n",
    "else:\n",
    "    print(\"We fail to reject the null hypothesis, there is no linear relationship for those with phone service\")\n",
    "\n",
    "if no_phone_p < alpha:\n",
    "    print(\"We reject the null hypothesis, there is a linear relationship for those without phone service\")\n",
    "else:\n",
    "    print(\"We fail to reject the null hypothesis, there is no linear relationship for those without phone service\")"
   ]
  },
  {
   "cell_type": "markdown",
   "id": "dfe22598",
   "metadata": {},
   "source": [
    "# What happens if you control for internet service?\n"
   ]
  },
  {
   "cell_type": "markdown",
   "id": "ebf3fd39",
   "metadata": {},
   "source": [
    "- $H_0$: there is no linear relationship between tenure and Total charges when controlling for internet\n",
    "- $H_a$: there is a linear relationship between tenure and Total charges when controlling for internet\n"
   ]
  },
  {
   "cell_type": "code",
   "execution_count": 109,
   "id": "2c954b0e",
   "metadata": {},
   "outputs": [
    {
     "data": {
      "image/png": "[encoded data removed]",
      "text/plain": [
       "<Figure size 1080x360 with 3 Axes>"
      ]
     },
     "metadata": {
      "needs_background": "light"
     },
     "output_type": "display_data"
    }
   ],
   "source": [
    "# plot the data seperating for internet service\n",
    "sns.relplot(data=telco, x='tenure', y='TotalCharges', col='InternetService')\n",
    "plt.show()"
   ]
  },
  {
   "cell_type": "code",
   "execution_count": 116,
   "id": "ba8e97df",
   "metadata": {},
   "outputs": [
    {
     "data": {
      "text/plain": [
       "(0.9411848215629796, 0.0)"
      ]
     },
     "execution_count": 116,
     "metadata": {},
     "output_type": "execute_result"
    }
   ],
   "source": [
    "# calculate values and determine if relationship is linear for those with DSL\n",
    "DSL = telco[telco.InternetService == 'DSL']\n",
    "\n",
    "x1 = DSL.tenure\n",
    "y1 = DSL.TotalCharges\n",
    "\n",
    "DSL_r, DSL_p = stats.pearsonr(x1,y1)\n",
    "DSL_r, DSL_p"
   ]
  },
  {
   "cell_type": "code",
   "execution_count": 117,
   "id": "1ec8ef7f",
   "metadata": {},
   "outputs": [
    {
     "data": {
      "text/plain": [
       "(0.9853093528070652, 0.0)"
      ]
     },
     "execution_count": 117,
     "metadata": {},
     "output_type": "execute_result"
    }
   ],
   "source": [
    "# calculate values and determine if relationship is linear for those with Fiber\n",
    "FO = telco[telco.InternetService == 'Fiber optic']\n",
    "\n",
    "x2 = FO.tenure\n",
    "y2 = FO.TotalCharges\n",
    "\n",
    "FO_r, FO_p = stats.pearsonr(x2,y2)\n",
    "FO_r, FO_p"
   ]
  },
  {
   "cell_type": "code",
   "execution_count": 118,
   "id": "08b026ea",
   "metadata": {},
   "outputs": [
    {
     "data": {
      "text/plain": [
       "(0.9814648859044293, 0.0)"
      ]
     },
     "execution_count": 118,
     "metadata": {},
     "output_type": "execute_result"
    }
   ],
   "source": [
    "# calculate values and determine if relationship is linear for those with no internet\n",
    "no_int = telco[telco.InternetService == 'No']\n",
    "\n",
    "x3 = no_int.tenure\n",
    "y3 = no_int.TotalCharges\n",
    "\n",
    "none_r, none_p = stats.pearsonr(x3,y3)\n",
    "none_r, none_p"
   ]
  },
  {
   "cell_type": "code",
   "execution_count": 171,
   "id": "60158259",
   "metadata": {},
   "outputs": [],
   "source": [
    "# could have used groupby on df to separate phone/internet types, then used a function to .apply to the entire\n",
    "# dataframe"
   ]
  },
  {
   "cell_type": "code",
   "execution_count": 119,
   "id": "06b3315a",
   "metadata": {},
   "outputs": [
    {
     "name": "stdout",
     "output_type": "stream",
     "text": [
      "We reject the null hypothesis, there is a linear relationship for those with DSL service\n",
      "We reject the null hypothesis, there is a linear relationship for those with Fiber Optic service\n",
      "We reject the null hypothesis, there is a linear relationship for those without internet service\n"
     ]
    }
   ],
   "source": [
    "if DSL_p < alpha:\n",
    "    print(\"We reject the null hypothesis, there is a linear relationship for those with DSL service\")\n",
    "else:\n",
    "    print(\"We fail to reject the null hypothesis, there is no linear relationship for those with DSL service\")\n",
    "\n",
    "if FO_p < alpha:\n",
    "    print(\"We reject the null hypothesis, there is a linear relationship for those with Fiber Optic service\")\n",
    "else:\n",
    "    print(\"We fail to reject the null hypothesis, there is no linear relationship for those with Fiber Optic service\")\n",
    "if none_p < alpha:\n",
    "    print(\"We reject the null hypothesis, there is a linear relationship for those without internet service\")\n",
    "else:\n",
    "    print(\"We fail to reject the null hypothesis, there is no linear relationship for those without internet service\")"
   ]
  },
  {
   "cell_type": "markdown",
   "id": "25a1c5b1",
   "metadata": {},
   "source": [
    "# Use the employees database.\n",
    "# Is there a relationship between how long an employee has been with the company and their salary?"
   ]
  },
  {
   "cell_type": "code",
   "execution_count": 123,
   "id": "16ddfb87",
   "metadata": {},
   "outputs": [],
   "source": [
    "# get relavent data from employees database\n",
    "\n",
    "url = get_db_url(user, host, password, 'employees')\n",
    "query = '''SELECT emp_no, DATEDIFF(NOW(), hire_date)  as tenure, salary\n",
    "            FROM employees\n",
    "            JOIN (\n",
    "                SELECT emp_no, salary \n",
    "                from salaries \n",
    "                WHERE to_date > NOW()) AS cur_sals\n",
    "            USING(emp_no)\n",
    "            '''\n",
    "salaries = pd.read_sql(query,url)"
   ]
  },
  {
   "cell_type": "code",
   "execution_count": 124,
   "id": "7ba460b2",
   "metadata": {},
   "outputs": [
    {
     "data": {
      "text/html": [
       "<div>\n",
       "<style scoped>\n",
       "    .dataframe tbody tr th:only-of-type {\n",
       "        vertical-align: middle;\n",
       "    }\n",
       "\n",
       "    .dataframe tbody tr th {\n",
       "        vertical-align: top;\n",
       "    }\n",
       "\n",
       "    .dataframe thead th {\n",
       "        text-align: right;\n",
       "    }\n",
       "</style>\n",
       "<table border=\"1\" class=\"dataframe\">\n",
       "  <thead>\n",
       "    <tr style=\"text-align: right;\">\n",
       "      <th></th>\n",
       "      <th>emp_no</th>\n",
       "      <th>tenure</th>\n",
       "      <th>salary</th>\n",
       "    </tr>\n",
       "  </thead>\n",
       "  <tbody>\n",
       "    <tr>\n",
       "      <th>0</th>\n",
       "      <td>10001</td>\n",
       "      <td>13187</td>\n",
       "      <td>88958</td>\n",
       "    </tr>\n",
       "    <tr>\n",
       "      <th>1</th>\n",
       "      <td>10002</td>\n",
       "      <td>13404</td>\n",
       "      <td>72527</td>\n",
       "    </tr>\n",
       "    <tr>\n",
       "      <th>2</th>\n",
       "      <td>10003</td>\n",
       "      <td>13124</td>\n",
       "      <td>43311</td>\n",
       "    </tr>\n",
       "    <tr>\n",
       "      <th>3</th>\n",
       "      <td>10004</td>\n",
       "      <td>13029</td>\n",
       "      <td>74057</td>\n",
       "    </tr>\n",
       "    <tr>\n",
       "      <th>4</th>\n",
       "      <td>10005</td>\n",
       "      <td>12013</td>\n",
       "      <td>94692</td>\n",
       "    </tr>\n",
       "  </tbody>\n",
       "</table>\n",
       "</div>"
      ],
      "text/plain": [
       "   emp_no  tenure  salary\n",
       "0   10001   13187   88958\n",
       "1   10002   13404   72527\n",
       "2   10003   13124   43311\n",
       "3   10004   13029   74057\n",
       "4   10005   12013   94692"
      ]
     },
     "execution_count": 124,
     "metadata": {},
     "output_type": "execute_result"
    }
   ],
   "source": [
    "salaries.head()"
   ]
  },
  {
   "cell_type": "markdown",
   "id": "5dab0f62",
   "metadata": {},
   "source": [
    "- $H_0$: there is no linear relationship between tenure and salary\n",
    "- $H_a$: there is a linear relationship between tenure and salary"
   ]
  },
  {
   "cell_type": "code",
   "execution_count": 172,
   "id": "9d6104af",
   "metadata": {},
   "outputs": [
    {
     "data": {
      "text/plain": [
       "<Figure size 864x432 with 0 Axes>"
      ]
     },
     "metadata": {},
     "output_type": "display_data"
    },
    {
     "data": {
      "image/png": "[encoded data removed]",
      "text/plain": [
       "<Figure size 360x360 with 1 Axes>"
      ]
     },
     "metadata": {
      "needs_background": "light"
     },
     "output_type": "display_data"
    }
   ],
   "source": [
    "# get columns and plot values\n",
    "x = salaries.tenure / 365\n",
    "y = salaries.salary\n",
    "\n",
    "plt.figure(figsize= (12,6))\n",
    "sns.relplot(data=salaries, x=x, y=y)\n",
    "plt.title(\"What's the relationship between Tenure and Salary?\")\n",
    "plt.xlabel('Tenure in years')\n",
    "plt.ylabel('Salary in $')\n",
    "plt.show()"
   ]
  },
  {
   "cell_type": "code",
   "execution_count": 129,
   "id": "2c02811d",
   "metadata": {},
   "outputs": [
    {
     "data": {
      "text/plain": [
       "(0.30646256131860106, 0.0)"
      ]
     },
     "execution_count": 129,
     "metadata": {},
     "output_type": "execute_result"
    }
   ],
   "source": [
    "# calculate values\n",
    "r , p = stats.pearsonr(x,y)\n",
    "r,p"
   ]
  },
  {
   "cell_type": "code",
   "execution_count": 130,
   "id": "da3ecbe7",
   "metadata": {},
   "outputs": [
    {
     "name": "stdout",
     "output_type": "stream",
     "text": [
      "We reject the null hypothesis, there is a linear relationship between tenure and salary\n"
     ]
    }
   ],
   "source": [
    "#evaluate p-value\n",
    "if p < alpha:\n",
    "    print(\"We reject the null hypothesis, there is a linear relationship between tenure and salary\")\n",
    "else:\n",
    "    print(\"We fail to reject the null hypothesis, there is no linear relationship between tenure and salary\")"
   ]
  },
  {
   "cell_type": "markdown",
   "id": "03a63867",
   "metadata": {},
   "source": [
    "# Is there a relationship between how long an employee has been with the company and the number of titles they have had?"
   ]
  },
  {
   "cell_type": "code",
   "execution_count": 173,
   "id": "7ca476b3",
   "metadata": {},
   "outputs": [],
   "source": [
    "# get relavent data for current employees \n",
    "\n",
    "url = get_db_url(user, host, password, 'employees')\n",
    "\n",
    "query = '''SELECT emp_no, DATEDIFF(NOW(), hire_date)  as tenure, titles_held\n",
    "           FROM employees\n",
    "           JOIN (\n",
    "               SELECT emp_no, count(title) AS titles_held\n",
    "               FROM titles\n",
    "               GROUP BY emp_no) AS title_counts\n",
    "           USING(emp_no)\n",
    "           JOIN dept_emp\n",
    "           USING(emp_no)\n",
    "           WHERE dept_emp.to_date > NOW()\n",
    "            '''\n",
    "titles = pd.read_sql(query,url)"
   ]
  },
  {
   "cell_type": "code",
   "execution_count": 174,
   "id": "40b3a23c",
   "metadata": {},
   "outputs": [
    {
     "data": {
      "text/plain": [
       "(240124, 3)"
      ]
     },
     "execution_count": 174,
     "metadata": {},
     "output_type": "execute_result"
    }
   ],
   "source": [
    "titles.shape"
   ]
  },
  {
   "cell_type": "markdown",
   "id": "9f0d2fe6",
   "metadata": {},
   "source": [
    "- $H_0$: there is no linear relationship between tenure and titles held\n",
    "- $H_a$: there is a linear relationship between tenure and titles held"
   ]
  },
  {
   "cell_type": "code",
   "execution_count": 155,
   "id": "3580ee96",
   "metadata": {},
   "outputs": [
    {
     "data": {
      "image/png": "[encoded data removed]",
      "text/plain": [
       "<Figure size 432x288 with 1 Axes>"
      ]
     },
     "metadata": {
      "needs_background": "light"
     },
     "output_type": "display_data"
    }
   ],
   "source": [
    "# get columns and plot values\n",
    "x = titles.tenure / 365\n",
    "y = titles.titles_held\n",
    "\n",
    "plt.scatter(x, y)\n",
    "\n",
    "plt.title(\"What's the relationship between Tenure and # of titles held?\")\n",
    "plt.xlabel('Tenure in years')\n",
    "plt.ylabel('Titles held')\n",
    "plt.show()"
   ]
  },
  {
   "cell_type": "code",
   "execution_count": 142,
   "id": "2ef96502",
   "metadata": {},
   "outputs": [
    {
     "data": {
      "text/plain": [
       "(0.28712678897047295, 0.0)"
      ]
     },
     "execution_count": 142,
     "metadata": {},
     "output_type": "execute_result"
    }
   ],
   "source": [
    "# calculate values\n",
    "r , p = stats.pearsonr(x,y)\n",
    "r,p"
   ]
  },
  {
   "cell_type": "code",
   "execution_count": 156,
   "id": "a9194b6b",
   "metadata": {},
   "outputs": [
    {
     "name": "stdout",
     "output_type": "stream",
     "text": [
      "We reject the null hypothesis, there is a linear relationship between tenure and # of titles held\n"
     ]
    }
   ],
   "source": [
    "#evaluate p-value\n",
    "if p < alpha:\n",
    "    print(\"We reject the null hypothesis, there is a linear relationship between tenure and # of titles held\")\n",
    "else:\n",
    "    print(\"We fail to reject the null hyp, there is no linear relationship between tenure and # of titles held\")"
   ]
  },
  {
   "cell_type": "markdown",
   "id": "d0b5e7e0",
   "metadata": {},
   "source": [
    "# Use the sleepstudy data. Is there a relationship between days and reaction time?\n"
   ]
  },
  {
   "cell_type": "code",
   "execution_count": 159,
   "id": "019f3820",
   "metadata": {},
   "outputs": [
    {
     "data": {
      "text/html": [
       "<div>\n",
       "<style scoped>\n",
       "    .dataframe tbody tr th:only-of-type {\n",
       "        vertical-align: middle;\n",
       "    }\n",
       "\n",
       "    .dataframe tbody tr th {\n",
       "        vertical-align: top;\n",
       "    }\n",
       "\n",
       "    .dataframe thead th {\n",
       "        text-align: right;\n",
       "    }\n",
       "</style>\n",
       "<table border=\"1\" class=\"dataframe\">\n",
       "  <thead>\n",
       "    <tr style=\"text-align: right;\">\n",
       "      <th></th>\n",
       "      <th>Reaction</th>\n",
       "      <th>Days</th>\n",
       "      <th>Subject</th>\n",
       "    </tr>\n",
       "  </thead>\n",
       "  <tbody>\n",
       "    <tr>\n",
       "      <th>1</th>\n",
       "      <td>249.5600</td>\n",
       "      <td>0</td>\n",
       "      <td>308</td>\n",
       "    </tr>\n",
       "    <tr>\n",
       "      <th>2</th>\n",
       "      <td>258.7047</td>\n",
       "      <td>1</td>\n",
       "      <td>308</td>\n",
       "    </tr>\n",
       "    <tr>\n",
       "      <th>3</th>\n",
       "      <td>250.8006</td>\n",
       "      <td>2</td>\n",
       "      <td>308</td>\n",
       "    </tr>\n",
       "    <tr>\n",
       "      <th>4</th>\n",
       "      <td>321.4398</td>\n",
       "      <td>3</td>\n",
       "      <td>308</td>\n",
       "    </tr>\n",
       "    <tr>\n",
       "      <th>5</th>\n",
       "      <td>356.8519</td>\n",
       "      <td>4</td>\n",
       "      <td>308</td>\n",
       "    </tr>\n",
       "  </tbody>\n",
       "</table>\n",
       "</div>"
      ],
      "text/plain": [
       "   Reaction  Days  Subject\n",
       "1  249.5600     0      308\n",
       "2  258.7047     1      308\n",
       "3  250.8006     2      308\n",
       "4  321.4398     3      308\n",
       "5  356.8519     4      308"
      ]
     },
     "execution_count": 159,
     "metadata": {},
     "output_type": "execute_result"
    }
   ],
   "source": [
    "# get data and look at first few rows\n",
    "sleep = data('sleepstudy')\n",
    "sleep.head()"
   ]
  },
  {
   "cell_type": "markdown",
   "id": "8336dc80",
   "metadata": {},
   "source": [
    "- $H_0$: there is no linear relationship between days and reaction time\n",
    "- $H_a$: there is a linear relationship between days and reaction time"
   ]
  },
  {
   "cell_type": "code",
   "execution_count": 161,
   "id": "e65b5a1f",
   "metadata": {},
   "outputs": [
    {
     "data": {
      "image/png": "[encoded data removed]",
      "text/plain": [
       "<Figure size 432x288 with 1 Axes>"
      ]
     },
     "metadata": {
      "needs_background": "light"
     },
     "output_type": "display_data"
    }
   ],
   "source": [
    "# get columns and plot values\n",
    "x = sleep.Days\n",
    "y = sleep.Reaction\n",
    "\n",
    "plt.scatter(x, y)\n",
    "\n",
    "plt.title(\"What's the relationship between Days of Sleep Deprevation and Reaction Time?\")\n",
    "plt.xlabel('Days awake')\n",
    "plt.ylabel('Reaction time in mSeconds')\n",
    "plt.show()\n",
    "\n",
    "\n",
    "\n",
    "# to include regression line use sns.lmplot. ******"
   ]
  },
  {
   "cell_type": "code",
   "execution_count": 162,
   "id": "1ddeb1b6",
   "metadata": {},
   "outputs": [
    {
     "data": {
      "text/plain": [
       "(0.5352302262650255, 9.89409632221439e-15)"
      ]
     },
     "execution_count": 162,
     "metadata": {},
     "output_type": "execute_result"
    }
   ],
   "source": [
    "# calculate values\n",
    "r , p = stats.pearsonr(x,y)\n",
    "r,p"
   ]
  },
  {
   "cell_type": "code",
   "execution_count": 163,
   "id": "0ebb3486",
   "metadata": {},
   "outputs": [
    {
     "name": "stdout",
     "output_type": "stream",
     "text": [
      "We reject the null hypothesis, there is a linear relationship between sleep deprivation & reaction time\n"
     ]
    }
   ],
   "source": [
    "#evaluate p-value\n",
    "if p < alpha:\n",
    "    print(\"We reject the null hypothesis, there is a linear relationship between sleep deprivation & reaction time\")\n",
    "else:\n",
    "    print(\"We fail to reject the null hyp, there is no linear relationship between sleep deprivation & reaction time\")"
   ]
  },
  {
   "cell_type": "markdown",
   "id": "ab56afdc",
   "metadata": {},
   "source": [
    "# X2  Contingency Table Tests"
   ]
  },
  {
   "cell_type": "markdown",
   "id": "8cfa6a94",
   "metadata": {},
   "source": [
    "Use the following contingency table to help answer the question of whether using a macbook and being a codeup student are independent of each other."
   ]
  },
  {
   "cell_type": "code",
   "execution_count": 191,
   "id": "24244429",
   "metadata": {},
   "outputs": [
    {
     "data": {
      "text/plain": [
       "array([[49, 20],\n",
       "       [ 1, 30]])"
      ]
     },
     "execution_count": 191,
     "metadata": {},
     "output_type": "execute_result"
    }
   ],
   "source": [
    "# create np.array with table data\n",
    "observed = np.array([[49,20],[1,30]])\n",
    "observed"
   ]
  },
  {
   "cell_type": "markdown",
   "id": "83fa0d35",
   "metadata": {},
   "source": [
    "### Form hypothesis"
   ]
  },
  {
   "cell_type": "markdown",
   "id": "4eb78a81",
   "metadata": {},
   "source": [
    "- $H_0$: There is no association between macbook use and being a codeup student (They are independent)\n",
    "- $H_a$: There is an association between macbook use and being a codeup student (They are not independent)"
   ]
  },
  {
   "cell_type": "markdown",
   "id": "d1916152",
   "metadata": {},
   "source": [
    "### Make contigency table"
   ]
  },
  {
   "cell_type": "markdown",
   "id": "4f5ab32f",
   "metadata": {},
   "source": [
    "The table created is already a contingency table"
   ]
  },
  {
   "cell_type": "markdown",
   "id": "103deeca",
   "metadata": {},
   "source": [
    "### Use stats.chi2_contingency"
   ]
  },
  {
   "cell_type": "code",
   "execution_count": 197,
   "id": "4ef9e402",
   "metadata": {},
   "outputs": [],
   "source": [
    "chi2, p, degf, expected = stats.chi2_contingency(observed)"
   ]
  },
  {
   "cell_type": "code",
   "execution_count": 198,
   "id": "fdc1de7e",
   "metadata": {},
   "outputs": [
    {
     "name": "stdout",
     "output_type": "stream",
     "text": [
      "Observed\n",
      "[[49 20]\n",
      " [ 1 30]]\n",
      "\n",
      "Expected\n",
      "[[34 34]\n",
      " [15 15]]\n",
      "\n",
      "----\n",
      "chi^2 = 36.6526\n",
      "p     = 0.0000\n"
     ]
    }
   ],
   "source": [
    "print('Observed')\n",
    "print(observed)\n",
    "print('\\nExpected')\n",
    "print(expected.astype(int))\n",
    "print('\\n----')\n",
    "print(f'chi^2 = {chi2:.4f}')\n",
    "print(f'p     = {p:.4f}')\n"
   ]
  },
  {
   "cell_type": "code",
   "execution_count": 199,
   "id": "de5574dd",
   "metadata": {},
   "outputs": [
    {
     "name": "stdout",
     "output_type": "stream",
     "text": [
      "We reject the null, there is no association between macbook use and being a codeup student\n"
     ]
    }
   ],
   "source": [
    "if p < alpha:\n",
    "    print('We reject the null, there is no association between macbook use and being a codeup student')\n",
    "else:\n",
    "    print(\"we fail to reject the null\")"
   ]
  },
  {
   "cell_type": "markdown",
   "id": "30546586",
   "metadata": {},
   "source": [
    "# Choose another 2 categorical variables from the mpg dataset and perform a chi2 contingency table test with them. Be sure to state your null and alternative hypotheses."
   ]
  },
  {
   "cell_type": "code",
   "execution_count": 206,
   "id": "b1f3cb8c",
   "metadata": {},
   "outputs": [
    {
     "data": {
      "text/plain": [
       "manufacturer    15\n",
       "model           38\n",
       "displ           35\n",
       "year             2\n",
       "cyl              4\n",
       "trans           10\n",
       "drv              3\n",
       "cty             21\n",
       "hwy             27\n",
       "fl               5\n",
       "class            7\n",
       "dtype: int64"
      ]
     },
     "execution_count": 206,
     "metadata": {},
     "output_type": "execute_result"
    }
   ],
   "source": [
    "#get data and look for categorical values\n",
    "df = data('mpg')\n",
    "df.nunique()"
   ]
  },
  {
   "cell_type": "code",
   "execution_count": 208,
   "id": "5257b3be",
   "metadata": {},
   "outputs": [
    {
     "data": {
      "text/plain": [
       "(1999    117\n",
       " 2008    117\n",
       " Name: year, dtype: int64,\n",
       " f    106\n",
       " 4    103\n",
       " r     25\n",
       " Name: drv, dtype: int64)"
      ]
     },
     "execution_count": 208,
     "metadata": {},
     "output_type": "execute_result"
    }
   ],
   "source": [
    "# it appears year and drv are categories.  \n",
    "df.year.value_counts(), df.drv.value_counts()"
   ]
  },
  {
   "cell_type": "markdown",
   "id": "3107b580",
   "metadata": {},
   "source": [
    "# Form hypothesis"
   ]
  },
  {
   "cell_type": "markdown",
   "id": "c742c67a",
   "metadata": {},
   "source": [
    "- $H_0$: There is no association between year and drive type (They are independent)\n",
    "- $H_a$: There is an association between year and drive type (They are not independent)"
   ]
  },
  {
   "cell_type": "markdown",
   "id": "b98a7597",
   "metadata": {},
   "source": [
    "# Make contigency table"
   ]
  },
  {
   "cell_type": "code",
   "execution_count": 211,
   "id": "9a065d98",
   "metadata": {},
   "outputs": [
    {
     "data": {
      "text/html": [
       "<div>\n",
       "<style scoped>\n",
       "    .dataframe tbody tr th:only-of-type {\n",
       "        vertical-align: middle;\n",
       "    }\n",
       "\n",
       "    .dataframe tbody tr th {\n",
       "        vertical-align: top;\n",
       "    }\n",
       "\n",
       "    .dataframe thead th {\n",
       "        text-align: right;\n",
       "    }\n",
       "</style>\n",
       "<table border=\"1\" class=\"dataframe\">\n",
       "  <thead>\n",
       "    <tr style=\"text-align: right;\">\n",
       "      <th>drv</th>\n",
       "      <th>4</th>\n",
       "      <th>f</th>\n",
       "      <th>r</th>\n",
       "    </tr>\n",
       "    <tr>\n",
       "      <th>year</th>\n",
       "      <th></th>\n",
       "      <th></th>\n",
       "      <th></th>\n",
       "    </tr>\n",
       "  </thead>\n",
       "  <tbody>\n",
       "    <tr>\n",
       "      <th>1999</th>\n",
       "      <td>49</td>\n",
       "      <td>57</td>\n",
       "      <td>11</td>\n",
       "    </tr>\n",
       "    <tr>\n",
       "      <th>2008</th>\n",
       "      <td>54</td>\n",
       "      <td>49</td>\n",
       "      <td>14</td>\n",
       "    </tr>\n",
       "  </tbody>\n",
       "</table>\n",
       "</div>"
      ],
      "text/plain": [
       "drv    4   f   r\n",
       "year            \n",
       "1999  49  57  11\n",
       "2008  54  49  14"
      ]
     },
     "execution_count": 211,
     "metadata": {},
     "output_type": "execute_result"
    }
   ],
   "source": [
    "observed = pd.crosstab(df.year, df.drv)\n",
    "observed"
   ]
  },
  {
   "cell_type": "markdown",
   "id": "7847e005",
   "metadata": {},
   "source": [
    "# Use stats.chi2_contingency"
   ]
  },
  {
   "cell_type": "code",
   "execution_count": 213,
   "id": "6fdc0640",
   "metadata": {},
   "outputs": [],
   "source": [
    "chi2, p, degf, expected = stats.chi2_contingency(observed)"
   ]
  },
  {
   "cell_type": "code",
   "execution_count": 214,
   "id": "3e9a4cc7",
   "metadata": {},
   "outputs": [
    {
     "name": "stdout",
     "output_type": "stream",
     "text": [
      "Observed\n",
      "[[49 57 11]\n",
      " [54 49 14]]\n",
      "\n",
      "Expected\n",
      "[[51 53 12]\n",
      " [51 53 12]]\n",
      "\n",
      "----\n",
      "chi^2 = 1.2065\n",
      "p     = 0.5470\n"
     ]
    }
   ],
   "source": [
    "#output values\n",
    "print('Observed')\n",
    "print(observed.values)\n",
    "print('\\nExpected')\n",
    "print(expected.astype(int))\n",
    "print('\\n----')\n",
    "print(f'chi^2 = {chi2:.4f}')\n",
    "print(f'p     = {p:.4f}')"
   ]
  },
  {
   "cell_type": "code",
   "execution_count": 215,
   "id": "ac1973fd",
   "metadata": {},
   "outputs": [
    {
     "name": "stdout",
     "output_type": "stream",
     "text": [
      "We fail to reject the null hypothesis\n"
     ]
    }
   ],
   "source": [
    "if p < alpha:\n",
    "    print(\"We reject the hypothesis\")\n",
    "else:\n",
    "    print(\"We fail to reject the null hypothesis, there is no association between year and drive type\")"
   ]
  },
  {
   "cell_type": "markdown",
   "id": "5fdc5053",
   "metadata": {},
   "source": [
    "# Use the data from the employees database to answer these questions:\n",
    "\n"
   ]
  },
  {
   "cell_type": "markdown",
   "id": "03054f7a",
   "metadata": {},
   "source": [
    "Is an employee's gender independent of whether an employee works in sales or marketing? (only look at current employees"
   ]
  },
  {
   "cell_type": "code",
   "execution_count": 223,
   "id": "ee8b8464",
   "metadata": {},
   "outputs": [
    {
     "data": {
      "text/html": [
       "<div>\n",
       "<style scoped>\n",
       "    .dataframe tbody tr th:only-of-type {\n",
       "        vertical-align: middle;\n",
       "    }\n",
       "\n",
       "    .dataframe tbody tr th {\n",
       "        vertical-align: top;\n",
       "    }\n",
       "\n",
       "    .dataframe thead th {\n",
       "        text-align: right;\n",
       "    }\n",
       "</style>\n",
       "<table border=\"1\" class=\"dataframe\">\n",
       "  <thead>\n",
       "    <tr style=\"text-align: right;\">\n",
       "      <th></th>\n",
       "      <th>emp_no</th>\n",
       "      <th>gender</th>\n",
       "      <th>dept_name</th>\n",
       "    </tr>\n",
       "  </thead>\n",
       "  <tbody>\n",
       "    <tr>\n",
       "      <th>0</th>\n",
       "      <td>10017</td>\n",
       "      <td>F</td>\n",
       "      <td>Marketing</td>\n",
       "    </tr>\n",
       "    <tr>\n",
       "      <th>1</th>\n",
       "      <td>10058</td>\n",
       "      <td>M</td>\n",
       "      <td>Marketing</td>\n",
       "    </tr>\n",
       "    <tr>\n",
       "      <th>2</th>\n",
       "      <td>10140</td>\n",
       "      <td>F</td>\n",
       "      <td>Marketing</td>\n",
       "    </tr>\n",
       "    <tr>\n",
       "      <th>3</th>\n",
       "      <td>10228</td>\n",
       "      <td>F</td>\n",
       "      <td>Marketing</td>\n",
       "    </tr>\n",
       "    <tr>\n",
       "      <th>4</th>\n",
       "      <td>10239</td>\n",
       "      <td>F</td>\n",
       "      <td>Marketing</td>\n",
       "    </tr>\n",
       "  </tbody>\n",
       "</table>\n",
       "</div>"
      ],
      "text/plain": [
       "   emp_no gender  dept_name\n",
       "0   10017      F  Marketing\n",
       "1   10058      M  Marketing\n",
       "2   10140      F  Marketing\n",
       "3   10228      F  Marketing\n",
       "4   10239      F  Marketing"
      ]
     },
     "execution_count": 223,
     "metadata": {},
     "output_type": "execute_result"
    }
   ],
   "source": [
    "# get data from employees schema on the codeup data server\n",
    "query = \"\"\"\n",
    "        SELECT emp_no, gender, dept_name\n",
    "        FROM employees as e\n",
    "        JOIN dept_emp as de\n",
    "        USING(emp_no)\n",
    "        JOIN departments as d\n",
    "        USING(dept_no)\n",
    "        WHERE de.to_date > NOW() AND (d.dept_name = 'Sales' or d.dept_name = 'Marketing')\n",
    "        \"\"\"\n",
    "url = get_db_url(user, host, password, 'employees')\n",
    "\n",
    "df = pd.read_sql(query,url)\n",
    "df.head()"
   ]
  },
  {
   "cell_type": "markdown",
   "id": "78b3b2aa",
   "metadata": {},
   "source": [
    "# Form hypothesis"
   ]
  },
  {
   "cell_type": "markdown",
   "id": "1fcc03dc",
   "metadata": {},
   "source": [
    "- $H_0$: There is no association between gender and department (They are independent)\n",
    "- $H_a$: There is an association between gender and department (They are not independent)"
   ]
  },
  {
   "cell_type": "markdown",
   "id": "f8336bc9",
   "metadata": {},
   "source": [
    "# Make contigency table"
   ]
  },
  {
   "cell_type": "code",
   "execution_count": 224,
   "id": "19c9d558",
   "metadata": {},
   "outputs": [
    {
     "data": {
      "text/html": [
       "<div>\n",
       "<style scoped>\n",
       "    .dataframe tbody tr th:only-of-type {\n",
       "        vertical-align: middle;\n",
       "    }\n",
       "\n",
       "    .dataframe tbody tr th {\n",
       "        vertical-align: top;\n",
       "    }\n",
       "\n",
       "    .dataframe thead th {\n",
       "        text-align: right;\n",
       "    }\n",
       "</style>\n",
       "<table border=\"1\" class=\"dataframe\">\n",
       "  <thead>\n",
       "    <tr style=\"text-align: right;\">\n",
       "      <th>dept_name</th>\n",
       "      <th>Marketing</th>\n",
       "      <th>Sales</th>\n",
       "    </tr>\n",
       "    <tr>\n",
       "      <th>gender</th>\n",
       "      <th></th>\n",
       "      <th></th>\n",
       "    </tr>\n",
       "  </thead>\n",
       "  <tbody>\n",
       "    <tr>\n",
       "      <th>F</th>\n",
       "      <td>5864</td>\n",
       "      <td>14999</td>\n",
       "    </tr>\n",
       "    <tr>\n",
       "      <th>M</th>\n",
       "      <td>8978</td>\n",
       "      <td>22702</td>\n",
       "    </tr>\n",
       "  </tbody>\n",
       "</table>\n",
       "</div>"
      ],
      "text/plain": [
       "dept_name  Marketing  Sales\n",
       "gender                     \n",
       "F               5864  14999\n",
       "M               8978  22702"
      ]
     },
     "execution_count": 224,
     "metadata": {},
     "output_type": "execute_result"
    }
   ],
   "source": [
    "# Make contigency table\n",
    "observed = pd.crosstab(df.gender, df.dept_name)\n",
    "observed"
   ]
  },
  {
   "cell_type": "markdown",
   "id": "d1fbe0c1",
   "metadata": {},
   "source": [
    "# Use stats.chi2_contingency"
   ]
  },
  {
   "cell_type": "code",
   "execution_count": 225,
   "id": "e1ccbc79",
   "metadata": {},
   "outputs": [],
   "source": [
    "chi2, p, degf, expected = stats.chi2_contingency(observed)"
   ]
  },
  {
   "cell_type": "code",
   "execution_count": 226,
   "id": "994fd588",
   "metadata": {},
   "outputs": [
    {
     "name": "stdout",
     "output_type": "stream",
     "text": [
      "Observed\n",
      "[[ 5864 14999]\n",
      " [ 8978 22702]]\n",
      "\n",
      "Expected\n",
      "[[ 5893 14969]\n",
      " [ 8948 22731]]\n",
      "\n",
      "----\n",
      "chi^2 = 0.3240\n",
      "p     = 0.5692\n"
     ]
    }
   ],
   "source": [
    "#output values\n",
    "print('Observed')\n",
    "print(observed.values)\n",
    "print('\\nExpected')\n",
    "print(expected.astype(int))\n",
    "print('\\n----')\n",
    "print(f'chi^2 = {chi2:.4f}')\n",
    "print(f'p     = {p:.4f}')"
   ]
  },
  {
   "cell_type": "code",
   "execution_count": 228,
   "id": "bde5c7cf",
   "metadata": {},
   "outputs": [
    {
     "name": "stdout",
     "output_type": "stream",
     "text": [
      "We fail to reject the null hypothesis, there is no association between gender and sales/marketing depts\n"
     ]
    }
   ],
   "source": [
    "if p < alpha:\n",
    "    print(\"We reject the hypothesis\")\n",
    "else:\n",
    "    print(\"We fail to reject the null hypothesis, there is no association between gender and sales/marketing depts\")"
   ]
  },
  {
   "cell_type": "markdown",
   "id": "7a154615",
   "metadata": {},
   "source": [
    "# Is an employee's gender independent of whether or not they are or have been a manager?\n"
   ]
  },
  {
   "cell_type": "code",
   "execution_count": 230,
   "id": "8ed51e4b",
   "metadata": {},
   "outputs": [
    {
     "data": {
      "text/html": [
       "<div>\n",
       "<style scoped>\n",
       "    .dataframe tbody tr th:only-of-type {\n",
       "        vertical-align: middle;\n",
       "    }\n",
       "\n",
       "    .dataframe tbody tr th {\n",
       "        vertical-align: top;\n",
       "    }\n",
       "\n",
       "    .dataframe thead th {\n",
       "        text-align: right;\n",
       "    }\n",
       "</style>\n",
       "<table border=\"1\" class=\"dataframe\">\n",
       "  <thead>\n",
       "    <tr style=\"text-align: right;\">\n",
       "      <th></th>\n",
       "      <th>emp_no</th>\n",
       "      <th>gender</th>\n",
       "      <th>manager</th>\n",
       "    </tr>\n",
       "  </thead>\n",
       "  <tbody>\n",
       "    <tr>\n",
       "      <th>0</th>\n",
       "      <td>10001</td>\n",
       "      <td>M</td>\n",
       "      <td>NaN</td>\n",
       "    </tr>\n",
       "    <tr>\n",
       "      <th>1</th>\n",
       "      <td>10002</td>\n",
       "      <td>F</td>\n",
       "      <td>NaN</td>\n",
       "    </tr>\n",
       "    <tr>\n",
       "      <th>2</th>\n",
       "      <td>10003</td>\n",
       "      <td>M</td>\n",
       "      <td>NaN</td>\n",
       "    </tr>\n",
       "    <tr>\n",
       "      <th>3</th>\n",
       "      <td>10004</td>\n",
       "      <td>M</td>\n",
       "      <td>NaN</td>\n",
       "    </tr>\n",
       "    <tr>\n",
       "      <th>4</th>\n",
       "      <td>10005</td>\n",
       "      <td>M</td>\n",
       "      <td>NaN</td>\n",
       "    </tr>\n",
       "  </tbody>\n",
       "</table>\n",
       "</div>"
      ],
      "text/plain": [
       "   emp_no gender  manager\n",
       "0   10001      M      NaN\n",
       "1   10002      F      NaN\n",
       "2   10003      M      NaN\n",
       "3   10004      M      NaN\n",
       "4   10005      M      NaN"
      ]
     },
     "execution_count": 230,
     "metadata": {},
     "output_type": "execute_result"
    }
   ],
   "source": [
    "# get data from employees schema on the codeup data server\n",
    "query = \"\"\"\n",
    "        SELECT ce.emp_no, ce.gender, dm.emp_no as manager\n",
    "        FROM \n",
    "\t\t(select emp_no, gender\n",
    "\t\tfrom employees\n",
    "\t\tjoin salaries\n",
    "\t\tusing(emp_no)\n",
    "\t\twhere salaries.to_date > NOW()) as ce\n",
    "        LEFT JOIN dept_manager as dm\n",
    "        USING(emp_no)\n",
    "        \"\"\"\n",
    "url = get_db_url(user, host, password, 'employees')\n",
    "\n",
    "df = pd.read_sql(query,url)\n",
    "df.head()"
   ]
  },
  {
   "cell_type": "code",
   "execution_count": 232,
   "id": "00383b70",
   "metadata": {},
   "outputs": [
    {
     "data": {
      "text/plain": [
       "False    240100\n",
       "True         24\n",
       "Name: managerT/F, dtype: int64"
      ]
     },
     "execution_count": 232,
     "metadata": {},
     "output_type": "execute_result"
    }
   ],
   "source": [
    "# create column to determine if they have been a manager\n",
    "df['managerT/F'] = df['manager'].apply(lambda x: True if x > 1 else False)\n",
    "df['managerT/F'].value_counts()\n"
   ]
  },
  {
   "cell_type": "markdown",
   "id": "06ae9072",
   "metadata": {},
   "source": [
    "# Form hypothesis"
   ]
  },
  {
   "cell_type": "markdown",
   "id": "fd198ec3",
   "metadata": {},
   "source": [
    "- $H_0$: There is no association between gender and manager status (They are independent)\n",
    "- $H_a$: There is an association between gender and manager status (They are not independent)"
   ]
  },
  {
   "cell_type": "markdown",
   "id": "04397394",
   "metadata": {},
   "source": [
    "# Make contigency table"
   ]
  },
  {
   "cell_type": "code",
   "execution_count": 233,
   "id": "b46915f6",
   "metadata": {},
   "outputs": [
    {
     "data": {
      "text/html": [
       "<div>\n",
       "<style scoped>\n",
       "    .dataframe tbody tr th:only-of-type {\n",
       "        vertical-align: middle;\n",
       "    }\n",
       "\n",
       "    .dataframe tbody tr th {\n",
       "        vertical-align: top;\n",
       "    }\n",
       "\n",
       "    .dataframe thead th {\n",
       "        text-align: right;\n",
       "    }\n",
       "</style>\n",
       "<table border=\"1\" class=\"dataframe\">\n",
       "  <thead>\n",
       "    <tr style=\"text-align: right;\">\n",
       "      <th>managerT/F</th>\n",
       "      <th>False</th>\n",
       "      <th>True</th>\n",
       "    </tr>\n",
       "    <tr>\n",
       "      <th>gender</th>\n",
       "      <th></th>\n",
       "      <th></th>\n",
       "    </tr>\n",
       "  </thead>\n",
       "  <tbody>\n",
       "    <tr>\n",
       "      <th>F</th>\n",
       "      <td>95997</td>\n",
       "      <td>13</td>\n",
       "    </tr>\n",
       "    <tr>\n",
       "      <th>M</th>\n",
       "      <td>144103</td>\n",
       "      <td>11</td>\n",
       "    </tr>\n",
       "  </tbody>\n",
       "</table>\n",
       "</div>"
      ],
      "text/plain": [
       "managerT/F   False  True\n",
       "gender                  \n",
       "F            95997    13\n",
       "M           144103    11"
      ]
     },
     "execution_count": 233,
     "metadata": {},
     "output_type": "execute_result"
    }
   ],
   "source": [
    "# Make contigency table\n",
    "observed = pd.crosstab(df.gender, df['managerT/F'])\n",
    "observed"
   ]
  },
  {
   "cell_type": "markdown",
   "id": "9d604eac",
   "metadata": {},
   "source": [
    "# Use stats.chi2_contingency"
   ]
  },
  {
   "cell_type": "code",
   "execution_count": 234,
   "id": "251cf3d6",
   "metadata": {},
   "outputs": [],
   "source": [
    "chi2, p, degf, expected = stats.chi2_contingency(observed)"
   ]
  },
  {
   "cell_type": "code",
   "execution_count": 235,
   "id": "1205237a",
   "metadata": {},
   "outputs": [
    {
     "name": "stdout",
     "output_type": "stream",
     "text": [
      "Observed\n",
      "[[ 95997     13]\n",
      " [144103     11]]\n",
      "\n",
      "Expected\n",
      "[[ 96000      9]\n",
      " [144099     14]]\n",
      "\n",
      "----\n",
      "chi^2 = 1.4644\n",
      "p     = 0.2262\n"
     ]
    }
   ],
   "source": [
    "#output values\n",
    "print('Observed')\n",
    "print(observed.values)\n",
    "print('\\nExpected')\n",
    "print(expected.astype(int))\n",
    "print('\\n----')\n",
    "print(f'chi^2 = {chi2:.4f}')\n",
    "print(f'p     = {p:.4f}')"
   ]
  },
  {
   "cell_type": "code",
   "execution_count": 237,
   "id": "cd66f196",
   "metadata": {},
   "outputs": [
    {
     "name": "stdout",
     "output_type": "stream",
     "text": [
      "We fail to reject the null hypothesis, there is no association between gender and manager status\n"
     ]
    }
   ],
   "source": [
    "if p < alpha:\n",
    "    print(\"We reject the hypothesis\")\n",
    "else:\n",
    "    print(\"We fail to reject the null hypothesis, there is no association between gender and manager status\")"
   ]
  },
  {
   "cell_type": "code",
   "execution_count": null,
   "id": "b1146c0a",
   "metadata": {},
   "outputs": [],
   "source": []
  }
 ],
 "metadata": {
  "kernelspec": {
   "display_name": "Python 3 (ipykernel)",
   "language": "python",
   "name": "python3"
  },
  "language_info": {
   "codemirror_mode": {
    "name": "ipython",
    "version": 3
   },
   "file_extension": ".py",
   "mimetype": "text/x-python",
   "name": "python",
   "nbconvert_exporter": "python",
   "pygments_lexer": "ipython3",
   "version": "3.9.12"
  }
 },
 "nbformat": 4,
 "nbformat_minor": 5
}
