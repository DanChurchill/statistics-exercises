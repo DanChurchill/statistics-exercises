{
 "cells": [
  {
   "cell_type": "code",
   "execution_count": 2,
   "id": "4c0b1022",
   "metadata": {},
   "outputs": [],
   "source": [
    "import numpy as np\n",
    "import pandas as pd"
   ]
  },
  {
   "cell_type": "code",
   "execution_count": 102,
   "id": "c0a59ed9",
   "metadata": {},
   "outputs": [
    {
     "name": "stdout",
     "output_type": "stream",
     "text": [
      "The probability of rolling doubles is:  0.16533\n"
     ]
    }
   ],
   "source": [
    "# How likely is it that you roll doubles when rolling two dice?\n",
    "outcomes = [1,2,3,4,5,6]\n",
    "n_trials = 100_000\n",
    "n_dice = 2\n",
    "\n",
    "roll = np.random.choice(outcomes, (n_trials, n_dice))\n",
    "roll = pd.DataFrame(roll)\n",
    "doubles = len(roll[roll[0] == roll[1]])\n",
    "prob = doubles / n_trials\n",
    "print('The probability of rolling doubles is: ',prob)"
   ]
  },
  {
   "cell_type": "code",
   "execution_count": 103,
   "id": "dfe014bf",
   "metadata": {},
   "outputs": [
    {
     "name": "stdout",
     "output_type": "stream",
     "text": [
      "The probability of getting exactly 3 heads is:  0.21721\n",
      "The probability of getting more than 3 heads is:  0.63907\n"
     ]
    }
   ],
   "source": [
    "# If you flip 8 coins, what is the probability of getting exactly 3 heads? \n",
    "# What is the probability of getting more than 3 heads?\n",
    "\n",
    "outcomes = ['H', 'T']\n",
    "n_trials = 100_000\n",
    "n_coins = 8\n",
    "\n",
    "flip = np.random.choice(outcomes, (n_trials, n_coins))\n",
    "flip\n",
    "win = (flip == 'H').sum(axis=1) == 3\n",
    "win_rate = win.mean()\n",
    "print('The probability of getting exactly 3 heads is: ',win_rate)\n",
    "\n",
    "win2 = (flip == 'H').sum(axis=1) > 3\n",
    "win2_rate = win2.mean()\n",
    "print('The probability of getting more than 3 heads is: ',win2_rate)\n"
   ]
  },
  {
   "cell_type": "code",
   "execution_count": 144,
   "id": "4314e25c",
   "metadata": {},
   "outputs": [
    {
     "name": "stdout",
     "output_type": "stream",
     "text": [
      "The probability of both billboards having DS students on them is:  0.06246\n"
     ]
    }
   ],
   "source": [
    "# There are approximitely 3 web development cohorts for every 1 data science cohort at Codeup.\n",
    "# Assuming that Codeup randomly selects an alumni to put on a billboard, \n",
    "# what are the odds that the two billboards I drive past both have data science students on them?\n",
    "\n",
    "p_ds = .25\n",
    "n_billboards = 2\n",
    "n_trials = 100_000\n",
    "\n",
    "data = np.random.random((n_trials, n_billboards))\n",
    "data = (data < p_ds).sum(axis=1)\n",
    "win_prob = (data == 2).mean()\n",
    "\n",
    "print('The probability of both billboards having DS students on them is: ', win_prob)"
   ]
  },
  {
   "cell_type": "code",
   "execution_count": 156,
   "id": "bb144e5d",
   "metadata": {},
   "outputs": [
    {
     "name": "stdout",
     "output_type": "stream",
     "text": [
      "The probability of Pop Tarts still being in stock is:  0.72656\n"
     ]
    }
   ],
   "source": [
    "# Codeup students buy, on average, 3 poptart packages with a standard deviation \n",
    "# of 1.5 a day from the snack vending machine. If on monday the machine is restocked with \n",
    "# 17 poptart packages, how likely is it that I will be able to buy some poptarts on Friday afternoon? \n",
    "# (Remember, if you have mean and standard deviation, use the np.random.normal) You'll need to make a \n",
    "# judgement call on how to handle some of your values\n",
    "\n",
    "data = np.random.normal(3, 1.5, size=(100_000, 5))\n",
    "\n",
    "sum_of_week = data.sum(axis=1)\n",
    "\n",
    "in_stock_rate = (sum_of_week <= 17).mean()\n",
    "print('The probability of Pop Tarts still being in stock is: ',in_stock_rate)"
   ]
  },
  {
   "cell_type": "code",
   "execution_count": 176,
   "id": "c11fb56f",
   "metadata": {},
   "outputs": [
    {
     "name": "stdout",
     "output_type": "stream",
     "text": [
      "The likelihood a woman is taller than the man is:  0.20936\n"
     ]
    }
   ],
   "source": [
    "#Compare Heights\n",
    "\n",
    "# Men have an average height of 178 cm and standard deviation of 8cm.\n",
    "# Women have a mean of 170, sd = 6cm.\n",
    "# Since you have means and standard deviations, you can use np.random.normal to generate observations.\n",
    "# If a man and woman are chosen at random, what is the likelihood the woman is taller than the man?\n",
    "trials = 100_000\n",
    "\n",
    "men = pd.Series(np.random.normal(178, 8, trials))\n",
    "women = pd.Series(np.random.normal(170,6, trials))\n",
    "\n",
    "df=pd.concat([men,women],axis=1)\n",
    "df.set_axis(['men', 'women'], axis=1, inplace=True)\n",
    "\n",
    "win_prob = len(df[df.women > df.men]) / trials\n",
    "\n",
    "print('The likelihood a woman is taller than the man is: ', win_prob)\n"
   ]
  },
  {
   "cell_type": "code",
   "execution_count": 291,
   "id": "2d60f2e8",
   "metadata": {},
   "outputs": [
    {
     "name": "stdout",
     "output_type": "stream",
     "text": [
      "The probability of no one having an issue out of 50 students is:  0.81514\n",
      "The probability of no one having an issue out of 100 students is:  0.66942\n",
      "The probability of having an issue in the first 150 students is:  0.44996\n",
      "The probability of no one having an issue out of 450 students is:  0.16478\n"
     ]
    }
   ],
   "source": [
    "# When installing anaconda on a student's computer, there's a 1 in 250 chance that the download \n",
    "# is corrupted and the installation fails. What are the odds that after having 50 students \n",
    "# download anaconda, no one has an installation issue? 100 students?\n",
    "\n",
    "# What is the probability that we observe an installation issue within the first 150 students that download anaconda?\n",
    "\n",
    "# How likely is it that 450 students all download anaconda without an issue?\n",
    "\n",
    "corrupt_prob = 1/250\n",
    "trials = 100_000\n",
    "students50 = 50\n",
    "students100 = 100\n",
    "students150 = 150\n",
    "students450 = 450\n",
    "\n",
    "data_50 = np.random.random((trials ,students50))\n",
    "clear_50 = pd.DataFrame(data_50 > corrupt_prob).sum(axis = 1)\n",
    "prob_50 = len(clear_50[clear_50 == 50]) / trials\n",
    "\n",
    "print('The probability of no one having an issue out of 50 students is: ', prob_50)\n",
    "\n",
    "data_100 = np.random.random((trials ,students100))\n",
    "clear_100 = pd.DataFrame(data_100 > corrupt_prob).sum(axis = 1)\n",
    "prob_100 = len(clear_100[clear_100 == 100]) / trials\n",
    "print('The probability of no one having an issue out of 100 students is: ', prob_100)\n",
    "\n",
    "data_150 = np.random.random((trials ,students150))\n",
    "clear_150 = pd.DataFrame(data_150 > corrupt_prob).sum(axis = 1)\n",
    "prob_150 = len(clear_150[clear_150 != 150]) / trials\n",
    "print('The probability of having an issue in the first 150 students is: ', prob_150)\n",
    "\n",
    "data_450 = np.random.random((trials ,students450))\n",
    "clear_450 = pd.DataFrame(data_450 > corrupt_prob).sum(axis = 1)\n",
    "prob_450 = len(clear_450[clear_450 == 450]) / trials\n",
    "print('The probability of no one having an issue out of 450 students is: ', prob_450)"
   ]
  },
  {
   "cell_type": "code",
   "execution_count": 309,
   "id": "14f4fe5c",
   "metadata": {},
   "outputs": [
    {
     "name": "stdout",
     "output_type": "stream",
     "text": [
      "The probability of no truck for 3 days is:  0.0286\n",
      "The probability of a truck sometime this week is:  0.99771\n"
     ]
    }
   ],
   "source": [
    "# There's a 70% chance on any given day that there will be at least one food truck at Travis Park. \n",
    "# However, you haven't seen a food truck there in 3 days. How unlikely is this?\n",
    "\n",
    "# How likely is it that a food truck will show up sometime this week?\n",
    "\n",
    "p_truck = .7\n",
    "trials = 100_000\n",
    "days = 3\n",
    "weekdays = 5\n",
    "\n",
    "data = np.random.random((trials,days))\n",
    "truck_data = (data <= .7).sum(axis=1)\n",
    "no_truck_prob = (truck_data == 0).mean()\n",
    "print('The probability of no truck for 3 days is: ', no_truck_prob)\n",
    "\n",
    "data = np.random.random((trials,weekdays))\n",
    "truck_data = (data <= .7).sum(axis=1)\n",
    "truck_prob = (truck_data >= 1).mean()\n",
    "print('The probability of a truck sometime this week is: ', truck_prob)"
   ]
  },
  {
   "cell_type": "code",
   "execution_count": 462,
   "id": "b0bb5da1",
   "metadata": {},
   "outputs": [],
   "source": [
    "# If 23 people are in the same room, what are the odds that two of them share a birthday? \n",
    "# What if it's 20 people? 40?\n",
    "def birthday_paradox(people):\n",
    "    b_days = list(range(1, 366))\n",
    "    trials = 100_000\n",
    "    \n",
    "    count = 1\n",
    "    # data = (np.random.choice(b_days, (1, people))).tolist()\n",
    "\n",
    "    for i in range(100_000):\n",
    "        data = (np.random.choice(b_days, (1, people))).tolist()\n",
    "        if len(data[0]) - len(set(data[0])) != 0:\n",
    "            count += 1\n",
    "    print('Odds of sharing a birthday for', people, 'people are: ', count / 100_000)\n",
    "    "
   ]
  },
  {
   "cell_type": "code",
   "execution_count": 463,
   "id": "82200117",
   "metadata": {},
   "outputs": [
    {
     "name": "stdout",
     "output_type": "stream",
     "text": [
      "Odds of sharing a birthday for 23 people is:  0.50763\n",
      "Odds of sharing a birthday for 20 people is:  0.41138\n",
      "Odds of sharing a birthday for 40 people is:  0.89174\n"
     ]
    }
   ],
   "source": [
    "birthday_paradox(23)\n",
    "birthday_paradox(20)\n",
    "birthday_paradox(40)"
   ]
  },
  {
   "cell_type": "code",
   "execution_count": 484,
   "id": "0aa22e57",
   "metadata": {},
   "outputs": [
    {
     "name": "stdout",
     "output_type": "stream",
     "text": [
      "the wizard wins  3744 times\n",
      "the mage wins  5424 times\n",
      "they tie  832 times\n",
      "out of  10000 duels\n"
     ]
    }
   ],
   "source": [
    "outcomes6 = [1,2,3,4,5,6]\n",
    "outcomes4 = [1,2,3,4]\n",
    "\n",
    "simulations = 100_00\n",
    "\n",
    "wizard_roll = np.random.choice(outcomes6, (simulations, 4))\n",
    "mage_roll = np.random.choice(outcomes4, (simulations, 6))\n",
    "\n",
    "wizard_sums = wizard_roll.sum(axis=1)\n",
    "mage_sums = mage_roll.sum(axis=1)\n",
    "\n",
    "wizard_win = (wizard_sums > mage_sums).sum() \n",
    "mage_win = (mage_sums > wizard_sums).sum()\n",
    "print('the wizard wins ', wizard_win, 'times')\n",
    "print('the mage wins ', mage_win, 'times')\n",
    "print('they tie ', simulations - wizard_win - mage_win, 'times')\n",
    "print('out of ',simulations, 'duels')"
   ]
  },
  {
   "cell_type": "code",
   "execution_count": 547,
   "id": "528274af",
   "metadata": {},
   "outputs": [
    {
     "name": "stdout",
     "output_type": "stream",
     "text": [
      "chances of $2 outcome is  0.0049\n",
      "chances of $1 outcome is  0.07024\n",
      "chances of break-even outcome is  0.34507\n",
      "chances of -$1 outcome is  0.57979\n",
      "expected profit is  -0.49975\n",
      "profit over 1 million games is -$49975000\n"
     ]
    }
   ],
   "source": [
    "outcomes = [1,2,3,4,5,6]\n",
    "simulations = 100_000\n",
    "\n",
    "roll = np.random.choice(outcomes, (simulations, 3))\n",
    "payouts = (roll == 1).sum(axis=1) \n",
    "expected_profit = (payouts - 1).mean()\n",
    "\n",
    "one_dollar_rate = (payouts == 2).mean()\n",
    "two_dollar_rate = (payouts == 3).mean()\n",
    "break_even_rate = (payouts == 1).mean()\n",
    "lose_rate = (payouts == 0).mean()\n",
    "print('chances of $2 outcome is ', two_dollar_rate)\n",
    "print('chances of $1 outcome is ', one_dollar_rate)\n",
    "print('chances of break-even outcome is ', break_even_rate)\n",
    "print('chances of -$1 outcome is ', lose_rate)\n",
    "print('expected profit is ', expected_profit)\n",
    "print('profit over 1 million games is ', end='')\n",
    "profit = str(int((expected_profit * 100_000_000)))\n",
    "profit = profit.replace('-', '-$')\n",
    "print((profit))"
   ]
  },
  {
   "cell_type": "code",
   "execution_count": null,
   "id": "cdaf5146",
   "metadata": {},
   "outputs": [],
   "source": []
  },
  {
   "cell_type": "code",
   "execution_count": null,
   "id": "cdbeb873",
   "metadata": {},
   "outputs": [],
   "source": []
  },
  {
   "cell_type": "code",
   "execution_count": null,
   "id": "398fec1e",
   "metadata": {},
   "outputs": [],
   "source": []
  },
  {
   "cell_type": "code",
   "execution_count": null,
   "id": "6f443b96",
   "metadata": {},
   "outputs": [],
   "source": []
  }
 ],
 "metadata": {
  "kernelspec": {
   "display_name": "Python 3 (ipykernel)",
   "language": "python",
   "name": "python3"
  },
  "language_info": {
   "codemirror_mode": {
    "name": "ipython",
    "version": 3
   },
   "file_extension": ".py",
   "mimetype": "text/x-python",
   "name": "python",
   "nbconvert_exporter": "python",
   "pygments_lexer": "ipython3",
   "version": "3.9.12"
  }
 },
 "nbformat": 4,
 "nbformat_minor": 5
}
