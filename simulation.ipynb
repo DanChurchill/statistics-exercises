{
 "cells": [
  {
   "cell_type": "code",
   "execution_count": 66,
   "id": "4c0b1022",
   "metadata": {},
   "outputs": [],
   "source": [
    "import numpy as np\n",
    "import pandas as pd\n",
    "import matplotlib.pyplot as plt\n",
    "import seaborn as sns"
   ]
  },
  {
   "cell_type": "code",
   "execution_count": 67,
   "id": "90d72328",
   "metadata": {},
   "outputs": [
    {
     "name": "stdout",
     "output_type": "stream",
     "text": [
      "The probability of rolling doubles is:  0.16661\n"
     ]
    }
   ],
   "source": [
    "# How likely is it that you roll doubles when rolling two dice?\n",
    "\n",
    "\n",
    "outcomes = [1,2,3,4,5,6]\n",
    "n_trials = 100_000\n",
    "n_dice = 2\n",
    "\n",
    "# create dataframe of 100k rolls (rows) of two dice (cols)\n",
    "rolls = pd.DataFrame(np.random.choice(outcomes, (n_trials, n_dice)))\n",
    "\n",
    "# filter down to rolls where values are equal\n",
    "doubles = rolls[rolls[0] == rolls[1]]\n",
    "\n",
    "# number of doubles rows / total rows to get probability\n",
    "prob = len(doubles) / len(rolls)\n",
    "\n",
    "# output result\n",
    "print('The probability of rolling doubles is: ',prob)"
   ]
  },
  {
   "cell_type": "code",
   "execution_count": 68,
   "id": "dfe014bf",
   "metadata": {},
   "outputs": [
    {
     "name": "stdout",
     "output_type": "stream",
     "text": [
      "The probability of getting exactly 3 heads is:  0.21937\n",
      "The probability of getting more than 3 heads is:  0.63651\n"
     ]
    }
   ],
   "source": [
    "# If you flip 8 coins, what is the probability of getting exactly 3 heads? \n",
    "# What is the probability of getting more than 3 heads?\n",
    "\n",
    "outcomes = ['H', 'T']\n",
    "n_trials = 100_000\n",
    "n_coins = 8\n",
    "\n",
    "# create dataframe of 100K flips (rows) of eight coins (rows)\n",
    "flip = pd.DataFrame(np.random.choice(outcomes, (n_trials, n_coins)))\n",
    "\n",
    "# count # of heads in each row\n",
    "head_count = (flip == 'H').sum(axis=1)\n",
    "\n",
    "# get rate of 'wins' where there are exactly 3 heads\n",
    "win_rate = (head_count == 3).mean()\n",
    "print('The probability of getting exactly 3 heads is: ',win_rate)\n",
    "\n",
    "# get rate of 'wins' where there are > 3 heads\n",
    "win2_rate = (head_count > 3).mean()\n",
    "print('The probability of getting more than 3 heads is: ',win2_rate)\n"
   ]
  },
  {
   "cell_type": "code",
   "execution_count": 69,
   "id": "4314e25c",
   "metadata": {},
   "outputs": [
    {
     "name": "stdout",
     "output_type": "stream",
     "text": [
      "The probability of both billboards having DS students on them is:  0.06196\n"
     ]
    }
   ],
   "source": [
    "# There are approximitely 3 web development cohorts for every 1 data science cohort at Codeup.\n",
    "# Assuming that Codeup randomly selects an alumni to put on a billboard, \n",
    "# what are the odds that the two billboards I drive past both have data science students on them?\n",
    "\n",
    "p_ds = .25\n",
    "n_billboards = 2\n",
    "n_trials = 100_000\n",
    "\n",
    "# create dataframe of 100K events (rows) of 2 billboards (cols)\n",
    "data = pd.DataFrame(np.random.random((n_trials, n_billboards)))\n",
    "\n",
    "# create a series where the number of DS billboards are totalled for each row\n",
    "data = (data < p_ds).sum(axis=1)\n",
    "# get probability where the sum is 2\n",
    "win_prob = (data == 2).mean()\n",
    "\n",
    "print('The probability of both billboards having DS students on them is: ', win_prob)"
   ]
  },
  {
   "cell_type": "code",
   "execution_count": 70,
   "id": "bb144e5d",
   "metadata": {},
   "outputs": [
    {
     "name": "stdout",
     "output_type": "stream",
     "text": [
      "The probability of Pop Tarts still being in stock is:  0.72391\n"
     ]
    }
   ],
   "source": [
    "# Codeup students buy, on average, 3 poptart packages with a standard deviation \n",
    "# of 1.5 a day from the snack vending machine. If on monday the machine is restocked with \n",
    "# 17 poptart packages, how likely is it that I will be able to buy some poptarts on Friday afternoon? \n",
    "# (Remember, if you have mean and standard deviation, use the np.random.normal) You'll need to make a \n",
    "# judgement call on how to handle some of your values\n",
    "\n",
    "# create dataframe of 100K trials of pop-tarts purchased for five days\n",
    "data = pd.DataFrame(np.random.normal(3, 1.5, size=(100_000, 5)))\n",
    "\n",
    "# sum the pop-tarts purchased for each week\n",
    "sum_of_week = data.sum(axis=1)\n",
    "\n",
    "# find rate where the sum is less than or = to the 17 stocked\n",
    "in_stock_rate = (sum_of_week <= 17).mean()\n",
    "print('The probability of Pop Tarts still being in stock is: ',in_stock_rate)"
   ]
  },
  {
   "cell_type": "code",
   "execution_count": 71,
   "id": "c11fb56f",
   "metadata": {},
   "outputs": [
    {
     "name": "stdout",
     "output_type": "stream",
     "text": [
      "The likelihood a woman is taller than the man is:  0.21274\n"
     ]
    }
   ],
   "source": [
    "#Compare Heights\n",
    "# Men have an average height of 178 cm and standard deviation of 8cm.\n",
    "# Women have a mean of 170, sd = 6cm.\n",
    "# Since you have means and standard deviations, you can use np.random.normal to generate observations.\n",
    "# If a man and woman are chosen at random, what is the likelihood the woman is taller than the man?\n",
    "\n",
    "trials = 100_000\n",
    "\n",
    "# create 100K trials each for men and women\n",
    "men = pd.Series(np.random.normal(178, 8, trials))\n",
    "women = pd.Series(np.random.normal(170,6, trials))\n",
    "\n",
    "# merge into a dataframe and change axis names for clarity\n",
    "df=pd.concat([men,women],axis=1)\n",
    "df.set_axis(['men', 'women'], axis=1, inplace=True)\n",
    "\n",
    "# filter rows to those where women were taller, then get \n",
    "win_prob = (df.men < df.women).mean()\n",
    "\n",
    "print('The likelihood a woman is taller than the man is: ', win_prob)\n"
   ]
  },
  {
   "cell_type": "code",
   "execution_count": 72,
   "id": "2d60f2e8",
   "metadata": {},
   "outputs": [
    {
     "name": "stdout",
     "output_type": "stream",
     "text": [
      "The probability of no one having an issue out of 50 students is:  0.81719\n",
      "The probability of no one having an issue out of 100 students is:  0.66876\n",
      "The probability of having an issue in the first 150 students is:  0.45285\n",
      "The probability of no one having an issue out of 450 students is:  0.16527\n"
     ]
    }
   ],
   "source": [
    "# When installing anaconda on a student's computer, there's a 1 in 250 chance that the download \n",
    "# is corrupted and the installation fails. What are the odds that after having 50 students \n",
    "# download anaconda, no one has an installation issue? 100 students?\n",
    "\n",
    "# What is the probability that we observe an installation issue within the first 150 students that download anaconda?\n",
    "\n",
    "# How likely is it that 450 students all download anaconda without an issue?\n",
    "\n",
    "corrupt_prob = 1/250\n",
    "trials = 100_000\n",
    "students50 = 50\n",
    "students100 = 100\n",
    "students150 = 150\n",
    "students450 = 450\n",
    "\n",
    "data_50 = np.random.random((trials ,students50))\n",
    "clear_50 = pd.DataFrame(data_50 > corrupt_prob).sum(axis = 1)\n",
    "prob_50 = len(clear_50[clear_50 == 50]) / trials\n",
    "\n",
    "print('The probability of no one having an issue out of 50 students is: ', prob_50)\n",
    "\n",
    "data_100 = np.random.random((trials ,students100))\n",
    "clear_100 = pd.DataFrame(data_100 > corrupt_prob).sum(axis = 1)\n",
    "prob_100 = len(clear_100[clear_100 == 100]) / trials\n",
    "print('The probability of no one having an issue out of 100 students is: ', prob_100)\n",
    "\n",
    "data_150 = np.random.random((trials ,students150))\n",
    "clear_150 = pd.DataFrame(data_150 > corrupt_prob).sum(axis = 1)\n",
    "prob_150 = len(clear_150[clear_150 != 150]) / trials\n",
    "print('The probability of having an issue in the first 150 students is: ', prob_150)\n",
    "\n",
    "data_450 = np.random.random((trials ,students450))\n",
    "clear_450 = pd.DataFrame(data_450 > corrupt_prob).sum(axis = 1)\n",
    "prob_450 = len(clear_450[clear_450 == 450]) / trials\n",
    "print('The probability of no one having an issue out of 450 students is: ', prob_450)"
   ]
  },
  {
   "cell_type": "code",
   "execution_count": 73,
   "id": "14f4fe5c",
   "metadata": {},
   "outputs": [
    {
     "name": "stdout",
     "output_type": "stream",
     "text": [
      "The probability of no truck for 3 days is:  0.02649\n",
      "The probability of a truck sometime this week is:  0.99753\n"
     ]
    }
   ],
   "source": [
    "# There's a 70% chance on any given day that there will be at least one food truck at Travis Park. \n",
    "# However, you haven't seen a food truck there in 3 days. How unlikely is this?\n",
    "\n",
    "# How likely is it that a food truck will show up sometime this week?\n",
    "\n",
    "p_truck = .7\n",
    "trials = 100_000\n",
    "days = 3\n",
    "weekdays = 5\n",
    "\n",
    "data = np.random.random((trials,days))\n",
    "truck_data = (data <= .7).sum(axis=1)\n",
    "no_truck_prob = (truck_data == 0).mean()\n",
    "print('The probability of no truck for 3 days is: ', no_truck_prob)\n",
    "\n",
    "data = np.random.random((trials,weekdays))\n",
    "truck_data = (data <= .7).sum(axis=1)\n",
    "truck_prob = (truck_data >= 1).mean()\n",
    "print('The probability of a truck sometime this week is: ', truck_prob)"
   ]
  },
  {
   "cell_type": "code",
   "execution_count": 74,
   "id": "e1783d21",
   "metadata": {},
   "outputs": [],
   "source": [
    "# If 23 people are in the same room, what are the odds that two of them share a birthday? \n",
    "# What if it's 20 people? 40?\n",
    "\n",
    "# create function to check:\n",
    "def birthday(students):\n",
    "    \"\"\"\n",
    "    Function takes in a number of students and prints a statement with \n",
    "    odds that two students share a birthday\n",
    "    \"\"\"\n",
    "    \n",
    "# function to apply to dataframe that looks for rows with duplicates\n",
    "    def check_for_dups(df):\n",
    "        if len(df) != len(df.unique()):\n",
    "            return True\n",
    "        return False\n",
    "\n",
    "\n",
    "    b_days = list(range(1,366))\n",
    "    trials = 100_000\n",
    "    # create dataframe with 100K rows of student birthdays (however many are passed to function)\n",
    "    data = pd.DataFrame(np.random.choice(b_days, (trials, students)))\n",
    "    # apply check function to look for lines with dups and return the proportion of Trues\n",
    "    match_rate = data.apply(check_for_dups, axis=1).mean()\n",
    "    print('Odds of sharing a birthday for', students, 'people are: ', match_rate)"
   ]
  },
  {
   "cell_type": "code",
   "execution_count": 75,
   "id": "b5fa249a",
   "metadata": {},
   "outputs": [
    {
     "name": "stdout",
     "output_type": "stream",
     "text": [
      "Odds of sharing a birthday for 23 people are:  0.50415\n",
      "Odds of sharing a birthday for 20 people are:  0.40952\n",
      "Odds of sharing a birthday for 40 people are:  0.89168\n"
     ]
    }
   ],
   "source": [
    "birthday(23)\n",
    "birthday(20)\n",
    "birthday(40)"
   ]
  },
  {
   "cell_type": "code",
   "execution_count": 76,
   "id": "0aa22e57",
   "metadata": {},
   "outputs": [
    {
     "name": "stdout",
     "output_type": "stream",
     "text": [
      "the wizard wins  36699 times\n",
      "the mage wins  54533 times\n",
      "they tie  8768 times\n",
      "out of  100000 duels\n"
     ]
    }
   ],
   "source": [
    "# # Bonus problem 1\n",
    "# Imagine your wizard has 6d4 health points and you have spells that do 6d4 damage. \n",
    "# \"6d4\" means rolling six 4-sided dice and summing the result.\n",
    "# Your opposing mage has 4d6 health points and spells that do 4d6. \n",
    "# \"4d6\" means rolling four six-sided dice and summing the result.outcomes6 = [1,2,3,4,5,6]\n",
    "\n",
    "outcomes4 = [1,2,3,4]\n",
    "outcomes6 = [1,2,3,4,5,6]\n",
    "simulations = 100_000\n",
    "\n",
    "wizard_roll = np.random.choice(outcomes6, (simulations, 4))\n",
    "mage_roll = np.random.choice(outcomes4, (simulations, 6))\n",
    "\n",
    "wizard_sums = wizard_roll.sum(axis=1)\n",
    "mage_sums = mage_roll.sum(axis=1)\n",
    "\n",
    "wizard_win = (wizard_sums > mage_sums).sum() \n",
    "mage_win = (mage_sums > wizard_sums).sum()\n",
    "print('the wizard wins ', wizard_win, 'times')\n",
    "print('the mage wins ', mage_win, 'times')\n",
    "print('they tie ', simulations - wizard_win - mage_win, 'times')\n",
    "print('out of ',simulations, 'duels')"
   ]
  },
  {
   "cell_type": "code",
   "execution_count": 77,
   "id": "528274af",
   "metadata": {},
   "outputs": [
    {
     "name": "stdout",
     "output_type": "stream",
     "text": [
      "chances of $2 outcome is  0.00489\n",
      "chances of $1 outcome is  0.06987\n",
      "chances of break-even outcome is  0.34697\n",
      "chances of -$1 outcome is  0.57827\n",
      "expected profit is  -0.49862\n",
      "profit over 1 million games is -$49862000\n"
     ]
    }
   ],
   "source": [
    "# # Bonus problem 2\n",
    "# Rules:  The player pays $1 to play and picks a number.  The House rolls 3 dice at once.\n",
    "# Payouts:\n",
    "\n",
    "# $3 if all three dice match the chosen number\n",
    "# $2 if exactly two dice match the chosen number\n",
    "# $1 is exactly one of the dice matches the chosen number\n",
    "# If none of the dice match the player's chosen number, then the House keeps the $1.\n",
    "\n",
    "outcomes = [1,2,3,4,5,6]\n",
    "simulations = 100_000\n",
    "\n",
    "# create 100K rolls of three dice\n",
    "roll = np.random.choice(outcomes, (simulations, 3))\n",
    "payouts = (roll == 1).sum(axis=1) \n",
    "expected_profit = (payouts - 1).mean()\n",
    "\n",
    "one_dollar_rate = (payouts == 2).mean()\n",
    "two_dollar_rate = (payouts == 3).mean()\n",
    "break_even_rate = (payouts == 1).mean()\n",
    "lose_rate = (payouts == 0).mean()\n",
    "print('chances of $2 outcome is ', two_dollar_rate)\n",
    "print('chances of $1 outcome is ', one_dollar_rate)\n",
    "print('chances of break-even outcome is ', break_even_rate)\n",
    "print('chances of -$1 outcome is ', lose_rate)\n",
    "print('expected profit is ', expected_profit)\n",
    "print('profit over 1 million games is ', end='')\n",
    "profit = str(int((expected_profit * 100_000_000)))\n",
    "profit = profit.replace('-', '-$')\n",
    "print((profit))"
   ]
  },
  {
   "cell_type": "code",
   "execution_count": 78,
   "id": "cdaf5146",
   "metadata": {},
   "outputs": [
    {
     "data": {
      "image/png": "[encoded data removed]",
      "text/plain": [
       "<Figure size 1080x576 with 1 Axes>"
      ]
     },
     "metadata": {},
     "output_type": "display_data"
    }
   ],
   "source": [
    "#Chart out a histogram of all the outcomes of those 1,000,000 games\n",
    "\n",
    "sns.histplot(payouts)\n",
    "plt.title('Outcomes of 100K trials of Chuck-A-Luck')\n",
    "plt.show()"
   ]
  }
 ],
 "metadata": {
  "kernelspec": {
   "display_name": "Python 3 (ipykernel)",
   "language": "python",
   "name": "python3"
  },
  "language_info": {
   "codemirror_mode": {
    "name": "ipython",
    "version": 3
   },
   "file_extension": ".py",
   "mimetype": "text/x-python",
   "name": "python",
   "nbconvert_exporter": "python",
   "pygments_lexer": "ipython3",
   "version": "3.9.12"
  }
 },
 "nbformat": 4,
 "nbformat_minor": 5
}
