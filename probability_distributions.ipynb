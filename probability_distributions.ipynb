{
 "cells": [
  {
   "cell_type": "code",
   "execution_count": 93,
   "id": "789d2919",
   "metadata": {},
   "outputs": [],
   "source": [
    "import matplotlib.pyplot as plt\n",
    "import numpy as np\n",
    "import pandas as pd\n",
    "import seaborn as sns\n",
    "from scipy import stats\n",
    "from env import host, user, password\n",
    "\n",
    "# hint:  your can feed more than one value into a cdf or pdf\n",
    "# use a list format [low_val, high_val]\n",
    "# ex some_distribution.cdf([4,7])\n",
    "\n",
    "def get_db_url(username, hostname, password, database):\n",
    "    url = f'mysql+pymysql://{username}:{password}@{hostname}/{database}'\n",
    "    return url"
   ]
  },
  {
   "cell_type": "markdown",
   "id": "90ecdc11",
   "metadata": {},
   "source": [
    "1. A bank found that the average number of cars waiting during the noon hour at a drive-up window follows a Poisson distribution with a mean of 2 cars. \n",
    "\n",
    "    - Make a chart of this distribution and answer these questions concerning the probability of cars waiting at the drive-up window.\n",
    "    - What is the probability that no cars drive up in the noon hour?\n",
    "    - What is the probability that 3 or more cars come through the drive through?\n",
    "    - How likely is it that the drive through gets at least 1 car?"
   ]
  },
  {
   "cell_type": "code",
   "execution_count": 10,
   "id": "446c225e",
   "metadata": {},
   "outputs": [
    {
     "data": {
      "image/png": "[encoded data removed]",
      "text/plain": [
       "<Figure size 432x288 with 1 Axes>"
      ]
     },
     "metadata": {
      "needs_background": "light"
     },
     "output_type": "display_data"
    },
    {
     "name": "stdout",
     "output_type": "stream",
     "text": [
      "The probability of no cars in the noon hour is: 0.1353352832366127\n",
      "The probability of 3 or more cars in the noon hour is: 0.32332358381693654\n",
      "The probability of at least one car is:  0.8646647167633873\n"
     ]
    }
   ],
   "source": [
    "λ = 2\n",
    "wait_dist = stats.poisson(λ)\n",
    "\n",
    "x = np.arange(0,10)\n",
    "y = wait_dist.pmf(x)\n",
    "\n",
    "plt.bar(x,y)\n",
    "plt.xlabel('Number of cars waiting')\n",
    "plt.ylabel(\"P(X)\")\n",
    "plt.title(\"Poisson distribution of $λ = 2$\")\n",
    "plt.show()\n",
    "\n",
    "print('The probability of no cars in the noon hour is:', wait_dist.pmf(0))\n",
    "print('The probability of 3 or more cars in the noon hour is:', wait_dist.sf(2))\n",
    "print('The probability of at least one car is: ', wait_dist.sf(0))\n"
   ]
  },
  {
   "cell_type": "markdown",
   "id": "4e127c3a",
   "metadata": {},
   "source": [
    "2. Grades of State University graduates are normally distributed with a mean of 3.0 and a standard deviation of .3. Calculate the following:\n",
    "\n",
    "    - What grade point average is required to be in the top 5% of the graduating class?\n",
    "    - What GPA constitutes the bottom 15% of the class?\n",
    "    - An eccentric alumnus left scholarship money for students in the third decile from the bottom of their class.   Determine the range of the third decile. Would a student with a 2.8 grade point average qualify for this scholarship?\n",
    "    - If I have a GPA of 3.5, what percentile am I in?"
   ]
  },
  {
   "cell_type": "code",
   "execution_count": 22,
   "id": "2ef46a89",
   "metadata": {},
   "outputs": [
    {
     "name": "stdout",
     "output_type": "stream",
     "text": [
      "A GPA of  3.4934560880854417 is required to be in the top 5% of the class\n",
      "A GPA of  2.689069983151863 constitues the bottom 15% of the class\n",
      "The range of the third decile is  2.75 - 2.84\n",
      "A student with a 2.8 GPA would qualify for the scholorship\n",
      "If you have a 3.5 GPA you are in the  33.0 percentile\n"
     ]
    }
   ],
   "source": [
    "μ = 3\n",
    "σ = .3\n",
    "\n",
    "grad_rate = stats.norm(μ,σ)\n",
    "\n",
    "\n",
    "print('A GPA of ', grad_rate.isf(.05), 'is required to be in the top 5% of the class')\n",
    "print('A GPA of ', grad_rate.ppf(.15), 'constitues the bottom 15% of the class')\n",
    "\n",
    "low = grad_rate.ppf(.20)\n",
    "high = grad_rate.isf(.70)\n",
    "\n",
    "print('The range of the third decile is ', round(low,2), '-', round(high,2))\n",
    "print('A student with a 2.8 GPA would qualify for the scholorship')\n",
    "\n",
    "print('If you have a 3.5 GPA you are in the ', round(grad_rate.pdf(3.5),2) * 100, 'percentile')"
   ]
  },
  {
   "cell_type": "markdown",
   "id": "27b4ba4e",
   "metadata": {},
   "source": [
    "3. A marketing website has an average click-through rate of 2%. \n",
    "One day they observe 4326 visitors and 97 click-throughs. \n",
    "How likely is it that this many people or more click through?"
   ]
  },
  {
   "cell_type": "code",
   "execution_count": 29,
   "id": "952f2016",
   "metadata": {},
   "outputs": [
    {
     "name": "stdout",
     "output_type": "stream",
     "text": [
      "The liklihood of 97 or more people clicking-through is % 13.98\n"
     ]
    }
   ],
   "source": [
    "prob = .02\n",
    "trials = 4326\n",
    "\n",
    "ct_rate = stats.binom(trials, prob)\n",
    "print('The liklihood of 97 or more people clicking-through is %', round(ct_rate.sf(96) * 100,2))"
   ]
  },
  {
   "cell_type": "markdown",
   "id": "41135fe2",
   "metadata": {},
   "source": [
    "4. You are working on some statistics homework consisting of 100 questions where all of the answers are a probability rounded to the hundreths place. Looking to save time, you put down random probabilities as the answer to each question.  What is the probability that at least one of your first 60 answers is correct?"
   ]
  },
  {
   "cell_type": "code",
   "execution_count": 32,
   "id": "55731438",
   "metadata": {},
   "outputs": [
    {
     "name": "stdout",
     "output_type": "stream",
     "text": [
      "The probability of guetting at least one correct is:  0.45284335760923855\n"
     ]
    }
   ],
   "source": [
    "trials = 60\n",
    "prob = 1/100\n",
    "\n",
    "guess_rate = stats.binom(trials, prob)\n",
    "print('The probability of guetting at least one correct is: ', guess_rate.sf(0))"
   ]
  },
  {
   "cell_type": "markdown",
   "id": "6d8b435d",
   "metadata": {},
   "source": [
    "5. The codeup staff tends to get upset when the student break area is not cleaned up. Suppose that there's a 3% chance that any one student cleans the break area when they visit it, and, on any given day, about 90% of the 3 active cohorts of 22 students visit the break area. How likely is it that the break area gets cleaned up each day? How likely is it that it goes two days without getting cleaned up? All week?"
   ]
  },
  {
   "cell_type": "code",
   "execution_count": 46,
   "id": "71a0c45c",
   "metadata": {},
   "outputs": [
    {
     "name": "stdout",
     "output_type": "stream",
     "text": [
      "The liklihood of being cleaned each day is:  0.84\n",
      "The liklihood of not being cleaned in two days is:  0.03\n",
      "The liklihood of not being cleaned all week is:  0.00011781621791055144\n"
     ]
    }
   ],
   "source": [
    "prob = .03\n",
    "trials = .9 * 3 * 22\n",
    "\n",
    "clean_rate = stats.binom(trials,prob)\n",
    "print('The liklihood of being cleaned each day is: ',round(clean_rate.sf(0), 2))\n",
    "\n",
    "two_day_clean_rate = stats.binom(trials * 2, prob)\n",
    "print('The liklihood of not being cleaned in two days is: ',round(two_day_clean_rate.cdf(0), 2))\n",
    "\n",
    "five_day_clean_rate = stats.binom(trials * 5, prob)\n",
    "print('The liklihood of not being cleaned all week is: ',five_day_clean_rate.cdf(0))\n",
    "\n",
    "  "
   ]
  },
  {
   "cell_type": "markdown",
   "id": "aaa03480",
   "metadata": {},
   "source": [
    "6. You want to get lunch at La Panaderia, but notice that the line is usually very long at lunchtime. After several weeks of careful observation, you notice that the average number of people in line when your lunch break starts is normally distributed with a mean of 15 and standard deviation of 3. \n",
    "    - If it takes 2 minutes for each person to order, and 10 minutes from ordering to getting your food, what is the likelihood that you have at least 15 minutes left to eat your food before you have to go back to class? Assume you have one hour for lunch, and ignore travel time to and from La Panaderia."
   ]
  },
  {
   "cell_type": "code",
   "execution_count": 50,
   "id": "efeeb584",
   "metadata": {},
   "outputs": [
    {
     "name": "stdout",
     "output_type": "stream",
     "text": [
      "The liklihood that you have time to eat is:  0.7475\n"
     ]
    }
   ],
   "source": [
    "μ = 15\n",
    "σ = 3\n",
    "# have 35 minutes to wait(one hour minus the 15 minutes to eat and 10 minutes after you order)\n",
    "# you can wait for 17 people, but not 18 (must be 17 or less)\n",
    "\n",
    "line_rate = stats.norm(μ,σ)\n",
    "print('The liklihood that you have time to eat is: ', round(line_rate.cdf(17),4))"
   ]
  },
  {
   "cell_type": "markdown",
   "id": "eed89bc2",
   "metadata": {},
   "source": [
    "7. Connect to the employees database and find the average salary of current employees, along with the standard deviation. For the following questions, calculate the answer based on modeling the employees salaries with a normal distribution defined by the calculated mean and standard deviation then compare this answer to the actual values present in the salaries dataset.\n",
    "\n",
    "    - What percent of employees earn less than 60,000?\n",
    "    - What percent of employees earn more than 95,000?\n",
    "    - What percent of employees earn between 65,000 and 80,000?\n",
    "    - What do the top 5% of employees make?\n",
    "    \n",
    "Hint If you're looking at this exercise and wondering \"How do I get pandas to talk the database, again?\", remember that you'll need 3 things: your .gitignore, your env.py, and to use pd.read_sql. Copy over your .gitignore and env.py from your data science libraries exercises folder, and connect to the employees database like so:"
   ]
  },
  {
   "cell_type": "code",
   "execution_count": 72,
   "id": "29974df7",
   "metadata": {},
   "outputs": [],
   "source": [
    "url = get_db_url(user, host, password, 'employees')\n",
    "\n",
    "μ_df = pd.read_sql('select avg(salary) as u from salaries where to_date > NOW()', url)\n",
    "μ = μ_df['u'][0]\n",
    "σ = σ_df['o'][0]"
   ]
  },
  {
   "cell_type": "code",
   "execution_count": 89,
   "id": "3ed858bb",
   "metadata": {},
   "outputs": [
    {
     "name": "stdout",
     "output_type": "stream",
     "text": [
      "% 24.3857 of current employees make less than $60K\n",
      "% 9.2088 of current employees make more than $95K\n",
      "% 33.5061 of employees make between $65K and $80K\n",
      "The top 5% of employees make: $ 100484.59\n"
     ]
    }
   ],
   "source": [
    "sal_rate = stats.norm(μ,σ)\n",
    "print('%',round(sal_rate.cdf(60_000.01) * 100,4), 'of current employees make less than $60K')\n",
    "print('%',round(sal_rate.sf(95_000) * 100,4), 'of current employees make more than $95K')\n",
    "\n",
    "#less than 65\n",
    "low_end = sal_rate.cdf(64_999.99)\n",
    "#more than 80\n",
    "high_end = sal_rate.sf(80_000)\n",
    "# middle = everyone minus those two percentages\n",
    "middle = 1 - low_end - high_end\n",
    "print('%', round(middle * 100,4), 'of employees make between $65K and $80K')\n",
    "print('The top 5% of employees make: $', round(sal_rate.isf(.05),2))"
   ]
  },
  {
   "cell_type": "code",
   "execution_count": null,
   "id": "a7474d9e",
   "metadata": {},
   "outputs": [],
   "source": []
  },
  {
   "cell_type": "code",
   "execution_count": null,
   "id": "4892d6a2",
   "metadata": {},
   "outputs": [],
   "source": []
  }
 ],
 "metadata": {
  "kernelspec": {
   "display_name": "Python 3 (ipykernel)",
   "language": "python",
   "name": "python3"
  },
  "language_info": {
   "codemirror_mode": {
    "name": "ipython",
    "version": 3
   },
   "file_extension": ".py",
   "mimetype": "text/x-python",
   "name": "python",
   "nbconvert_exporter": "python",
   "pygments_lexer": "ipython3",
   "version": "3.9.12"
  }
 },
 "nbformat": 4,
 "nbformat_minor": 5
}
